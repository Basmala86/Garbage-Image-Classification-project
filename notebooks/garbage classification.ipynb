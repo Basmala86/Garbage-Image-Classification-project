{
 "cells": [
  {
   "cell_type": "code",
   "execution_count": 7,
   "id": "4655bf6c",
   "metadata": {},
   "outputs": [],
   "source": [
    "import numpy as np\n",
    "import pandas as pd\n",
    "import matplotlib.pyplot as plt\n",
    "import tensorflow as tf\n",
    "from tensorflow.keras.preprocessing.image import ImageDataGenerator\n",
    "from tensorflow.keras.applications import VGG16, ResNet50\n",
    "from tensorflow.keras.layers import Dense, Flatten, Dropout\n",
    "from tensorflow.keras.models import Model\n",
    "from tensorflow.keras.optimizers import Adam\n",
    "from sklearn.metrics import classification_report, confusion_matrix\n",
    "import seaborn as sns\n",
    "import os\n",
    "from sklearn.metrics import classification_report\n",
    "import tensorflow as tf\n",
    "from tensorflow.keras.models import Sequential\n",
    "from tensorflow.keras.layers import Conv2D, MaxPooling2D, Flatten, Dense, Dropout\n",
    "from tensorflow.keras.callbacks import EarlyStopping\n"
   ]
  },
  {
   "cell_type": "code",
   "execution_count": 5,
   "id": "63db7063",
   "metadata": {},
   "outputs": [
    {
     "name": "stdout",
     "output_type": "stream",
     "text": [
      "Found 15813 images belonging to 10 classes.\n",
      "Found 3949 images belonging to 10 classes.\n",
      "Downloading data from https://storage.googleapis.com/tensorflow/keras-applications/mobilenet_v2/mobilenet_v2_weights_tf_dim_ordering_tf_kernels_0.35_160_no_top.h5\n",
      "\u001b[1m2019640/2019640\u001b[0m \u001b[32m━━━━━━━━━━━━━━━━━━━━\u001b[0m\u001b[37m\u001b[0m \u001b[1m1s\u001b[0m 0us/step\n",
      "\n",
      "Training MOBILENET model...\n"
     ]
    },
    {
     "data": {
      "text/html": [
       "<pre style=\"white-space:pre;overflow-x:auto;line-height:normal;font-family:Menlo,'DejaVu Sans Mono',consolas,'Courier New',monospace\"><span style=\"font-weight: bold\">Model: \"sequential\"</span>\n",
       "</pre>\n"
      ],
      "text/plain": [
       "\u001b[1mModel: \"sequential\"\u001b[0m\n"
      ]
     },
     "metadata": {},
     "output_type": "display_data"
    },
    {
     "data": {
      "text/html": [
       "<pre style=\"white-space:pre;overflow-x:auto;line-height:normal;font-family:Menlo,'DejaVu Sans Mono',consolas,'Courier New',monospace\">┏━━━━━━━━━━━━━━━━━━━━━━━━━━━━━━━━━┳━━━━━━━━━━━━━━━━━━━━━━━━┳━━━━━━━━━━━━━━━┓\n",
       "┃<span style=\"font-weight: bold\"> Layer (type)                    </span>┃<span style=\"font-weight: bold\"> Output Shape           </span>┃<span style=\"font-weight: bold\">       Param # </span>┃\n",
       "┡━━━━━━━━━━━━━━━━━━━━━━━━━━━━━━━━━╇━━━━━━━━━━━━━━━━━━━━━━━━╇━━━━━━━━━━━━━━━┩\n",
       "│ mobilenetv2_0.35_160            │ (<span style=\"color: #00d7ff; text-decoration-color: #00d7ff\">None</span>, <span style=\"color: #00af00; text-decoration-color: #00af00\">5</span>, <span style=\"color: #00af00; text-decoration-color: #00af00\">5</span>, <span style=\"color: #00af00; text-decoration-color: #00af00\">1280</span>)     │       <span style=\"color: #00af00; text-decoration-color: #00af00\">410,208</span> │\n",
       "│ (<span style=\"color: #0087ff; text-decoration-color: #0087ff\">Functional</span>)                    │                        │               │\n",
       "├─────────────────────────────────┼────────────────────────┼───────────────┤\n",
       "│ global_average_pooling2d        │ (<span style=\"color: #00d7ff; text-decoration-color: #00d7ff\">None</span>, <span style=\"color: #00af00; text-decoration-color: #00af00\">1280</span>)           │             <span style=\"color: #00af00; text-decoration-color: #00af00\">0</span> │\n",
       "│ (<span style=\"color: #0087ff; text-decoration-color: #0087ff\">GlobalAveragePooling2D</span>)        │                        │               │\n",
       "├─────────────────────────────────┼────────────────────────┼───────────────┤\n",
       "│ batch_normalization             │ (<span style=\"color: #00d7ff; text-decoration-color: #00d7ff\">None</span>, <span style=\"color: #00af00; text-decoration-color: #00af00\">1280</span>)           │         <span style=\"color: #00af00; text-decoration-color: #00af00\">5,120</span> │\n",
       "│ (<span style=\"color: #0087ff; text-decoration-color: #0087ff\">BatchNormalization</span>)            │                        │               │\n",
       "├─────────────────────────────────┼────────────────────────┼───────────────┤\n",
       "│ dense (<span style=\"color: #0087ff; text-decoration-color: #0087ff\">Dense</span>)                   │ (<span style=\"color: #00d7ff; text-decoration-color: #00d7ff\">None</span>, <span style=\"color: #00af00; text-decoration-color: #00af00\">128</span>)            │       <span style=\"color: #00af00; text-decoration-color: #00af00\">163,968</span> │\n",
       "├─────────────────────────────────┼────────────────────────┼───────────────┤\n",
       "│ dropout (<span style=\"color: #0087ff; text-decoration-color: #0087ff\">Dropout</span>)               │ (<span style=\"color: #00d7ff; text-decoration-color: #00d7ff\">None</span>, <span style=\"color: #00af00; text-decoration-color: #00af00\">128</span>)            │             <span style=\"color: #00af00; text-decoration-color: #00af00\">0</span> │\n",
       "├─────────────────────────────────┼────────────────────────┼───────────────┤\n",
       "│ batch_normalization_1           │ (<span style=\"color: #00d7ff; text-decoration-color: #00d7ff\">None</span>, <span style=\"color: #00af00; text-decoration-color: #00af00\">128</span>)            │           <span style=\"color: #00af00; text-decoration-color: #00af00\">512</span> │\n",
       "│ (<span style=\"color: #0087ff; text-decoration-color: #0087ff\">BatchNormalization</span>)            │                        │               │\n",
       "├─────────────────────────────────┼────────────────────────┼───────────────┤\n",
       "│ dense_1 (<span style=\"color: #0087ff; text-decoration-color: #0087ff\">Dense</span>)                 │ (<span style=\"color: #00d7ff; text-decoration-color: #00d7ff\">None</span>, <span style=\"color: #00af00; text-decoration-color: #00af00\">10</span>)             │         <span style=\"color: #00af00; text-decoration-color: #00af00\">1,290</span> │\n",
       "└─────────────────────────────────┴────────────────────────┴───────────────┘\n",
       "</pre>\n"
      ],
      "text/plain": [
       "┏━━━━━━━━━━━━━━━━━━━━━━━━━━━━━━━━━┳━━━━━━━━━━━━━━━━━━━━━━━━┳━━━━━━━━━━━━━━━┓\n",
       "┃\u001b[1m \u001b[0m\u001b[1mLayer (type)                   \u001b[0m\u001b[1m \u001b[0m┃\u001b[1m \u001b[0m\u001b[1mOutput Shape          \u001b[0m\u001b[1m \u001b[0m┃\u001b[1m \u001b[0m\u001b[1m      Param #\u001b[0m\u001b[1m \u001b[0m┃\n",
       "┡━━━━━━━━━━━━━━━━━━━━━━━━━━━━━━━━━╇━━━━━━━━━━━━━━━━━━━━━━━━╇━━━━━━━━━━━━━━━┩\n",
       "│ mobilenetv2_0.35_160            │ (\u001b[38;5;45mNone\u001b[0m, \u001b[38;5;34m5\u001b[0m, \u001b[38;5;34m5\u001b[0m, \u001b[38;5;34m1280\u001b[0m)     │       \u001b[38;5;34m410,208\u001b[0m │\n",
       "│ (\u001b[38;5;33mFunctional\u001b[0m)                    │                        │               │\n",
       "├─────────────────────────────────┼────────────────────────┼───────────────┤\n",
       "│ global_average_pooling2d        │ (\u001b[38;5;45mNone\u001b[0m, \u001b[38;5;34m1280\u001b[0m)           │             \u001b[38;5;34m0\u001b[0m │\n",
       "│ (\u001b[38;5;33mGlobalAveragePooling2D\u001b[0m)        │                        │               │\n",
       "├─────────────────────────────────┼────────────────────────┼───────────────┤\n",
       "│ batch_normalization             │ (\u001b[38;5;45mNone\u001b[0m, \u001b[38;5;34m1280\u001b[0m)           │         \u001b[38;5;34m5,120\u001b[0m │\n",
       "│ (\u001b[38;5;33mBatchNormalization\u001b[0m)            │                        │               │\n",
       "├─────────────────────────────────┼────────────────────────┼───────────────┤\n",
       "│ dense (\u001b[38;5;33mDense\u001b[0m)                   │ (\u001b[38;5;45mNone\u001b[0m, \u001b[38;5;34m128\u001b[0m)            │       \u001b[38;5;34m163,968\u001b[0m │\n",
       "├─────────────────────────────────┼────────────────────────┼───────────────┤\n",
       "│ dropout (\u001b[38;5;33mDropout\u001b[0m)               │ (\u001b[38;5;45mNone\u001b[0m, \u001b[38;5;34m128\u001b[0m)            │             \u001b[38;5;34m0\u001b[0m │\n",
       "├─────────────────────────────────┼────────────────────────┼───────────────┤\n",
       "│ batch_normalization_1           │ (\u001b[38;5;45mNone\u001b[0m, \u001b[38;5;34m128\u001b[0m)            │           \u001b[38;5;34m512\u001b[0m │\n",
       "│ (\u001b[38;5;33mBatchNormalization\u001b[0m)            │                        │               │\n",
       "├─────────────────────────────────┼────────────────────────┼───────────────┤\n",
       "│ dense_1 (\u001b[38;5;33mDense\u001b[0m)                 │ (\u001b[38;5;45mNone\u001b[0m, \u001b[38;5;34m10\u001b[0m)             │         \u001b[38;5;34m1,290\u001b[0m │\n",
       "└─────────────────────────────────┴────────────────────────┴───────────────┘\n"
      ]
     },
     "metadata": {},
     "output_type": "display_data"
    },
    {
     "data": {
      "text/html": [
       "<pre style=\"white-space:pre;overflow-x:auto;line-height:normal;font-family:Menlo,'DejaVu Sans Mono',consolas,'Courier New',monospace\"><span style=\"font-weight: bold\"> Total params: </span><span style=\"color: #00af00; text-decoration-color: #00af00\">581,098</span> (2.22 MB)\n",
       "</pre>\n"
      ],
      "text/plain": [
       "\u001b[1m Total params: \u001b[0m\u001b[38;5;34m581,098\u001b[0m (2.22 MB)\n"
      ]
     },
     "metadata": {},
     "output_type": "display_data"
    },
    {
     "data": {
      "text/html": [
       "<pre style=\"white-space:pre;overflow-x:auto;line-height:normal;font-family:Menlo,'DejaVu Sans Mono',consolas,'Courier New',monospace\"><span style=\"font-weight: bold\"> Trainable params: </span><span style=\"color: #00af00; text-decoration-color: #00af00\">393,962</span> (1.50 MB)\n",
       "</pre>\n"
      ],
      "text/plain": [
       "\u001b[1m Trainable params: \u001b[0m\u001b[38;5;34m393,962\u001b[0m (1.50 MB)\n"
      ]
     },
     "metadata": {},
     "output_type": "display_data"
    },
    {
     "data": {
      "text/html": [
       "<pre style=\"white-space:pre;overflow-x:auto;line-height:normal;font-family:Menlo,'DejaVu Sans Mono',consolas,'Courier New',monospace\"><span style=\"font-weight: bold\"> Non-trainable params: </span><span style=\"color: #00af00; text-decoration-color: #00af00\">187,136</span> (731.00 KB)\n",
       "</pre>\n"
      ],
      "text/plain": [
       "\u001b[1m Non-trainable params: \u001b[0m\u001b[38;5;34m187,136\u001b[0m (731.00 KB)\n"
      ]
     },
     "metadata": {},
     "output_type": "display_data"
    },
    {
     "name": "stderr",
     "output_type": "stream",
     "text": [
      "c:\\Users\\HP\\AppData\\Local\\Programs\\Python\\Python310\\lib\\site-packages\\keras\\src\\trainers\\data_adapters\\py_dataset_adapter.py:121: UserWarning: Your `PyDataset` class should call `super().__init__(**kwargs)` in its constructor. `**kwargs` can include `workers`, `use_multiprocessing`, `max_queue_size`. Do not pass these arguments to `fit()`, as they will be ignored.\n",
      "  self._warn_if_super_not_called()\n"
     ]
    },
    {
     "name": "stdout",
     "output_type": "stream",
     "text": [
      "Epoch 1/20\n",
      "\u001b[1m248/248\u001b[0m \u001b[32m━━━━━━━━━━━━━━━━━━━━\u001b[0m\u001b[37m\u001b[0m \u001b[1m0s\u001b[0m 2s/step - accuracy: 0.4857 - loss: 1.6200"
     ]
    },
    {
     "name": "stderr",
     "output_type": "stream",
     "text": [
      "WARNING:absl:You are saving your model as an HDF5 file via `model.save()` or `keras.saving.save_model(model)`. This file format is considered legacy. We recommend using instead the native Keras format, e.g. `model.save('my_model.keras')` or `keras.saving.save_model(model, 'my_model.keras')`. \n"
     ]
    },
    {
     "name": "stdout",
     "output_type": "stream",
     "text": [
      "\u001b[1m248/248\u001b[0m \u001b[32m━━━━━━━━━━━━━━━━━━━━\u001b[0m\u001b[37m\u001b[0m \u001b[1m702s\u001b[0m 3s/step - accuracy: 0.4863 - loss: 1.6180 - val_accuracy: 0.7280 - val_loss: 0.8215 - learning_rate: 1.0000e-04\n",
      "Epoch 2/20\n",
      "\u001b[1m248/248\u001b[0m \u001b[32m━━━━━━━━━━━━━━━━━━━━\u001b[0m\u001b[37m\u001b[0m \u001b[1m0s\u001b[0m 2s/step - accuracy: 0.7936 - loss: 0.6522"
     ]
    },
    {
     "name": "stderr",
     "output_type": "stream",
     "text": [
      "WARNING:absl:You are saving your model as an HDF5 file via `model.save()` or `keras.saving.save_model(model)`. This file format is considered legacy. We recommend using instead the native Keras format, e.g. `model.save('my_model.keras')` or `keras.saving.save_model(model, 'my_model.keras')`. \n"
     ]
    },
    {
     "name": "stdout",
     "output_type": "stream",
     "text": [
      "\u001b[1m248/248\u001b[0m \u001b[32m━━━━━━━━━━━━━━━━━━━━\u001b[0m\u001b[37m\u001b[0m \u001b[1m610s\u001b[0m 2s/step - accuracy: 0.7937 - loss: 0.6521 - val_accuracy: 0.7782 - val_loss: 0.6641 - learning_rate: 1.0000e-04\n",
      "Epoch 3/20\n",
      "\u001b[1m248/248\u001b[0m \u001b[32m━━━━━━━━━━━━━━━━━━━━\u001b[0m\u001b[37m\u001b[0m \u001b[1m0s\u001b[0m 2s/step - accuracy: 0.8264 - loss: 0.5412"
     ]
    },
    {
     "name": "stderr",
     "output_type": "stream",
     "text": [
      "WARNING:absl:You are saving your model as an HDF5 file via `model.save()` or `keras.saving.save_model(model)`. This file format is considered legacy. We recommend using instead the native Keras format, e.g. `model.save('my_model.keras')` or `keras.saving.save_model(model, 'my_model.keras')`. \n"
     ]
    },
    {
     "name": "stdout",
     "output_type": "stream",
     "text": [
      "\u001b[1m248/248\u001b[0m \u001b[32m━━━━━━━━━━━━━━━━━━━━\u001b[0m\u001b[37m\u001b[0m \u001b[1m554s\u001b[0m 2s/step - accuracy: 0.8265 - loss: 0.5411 - val_accuracy: 0.8005 - val_loss: 0.5690 - learning_rate: 1.0000e-04\n",
      "Epoch 4/20\n",
      "\u001b[1m248/248\u001b[0m \u001b[32m━━━━━━━━━━━━━━━━━━━━\u001b[0m\u001b[37m\u001b[0m \u001b[1m0s\u001b[0m 2s/step - accuracy: 0.8457 - loss: 0.4756"
     ]
    },
    {
     "name": "stderr",
     "output_type": "stream",
     "text": [
      "WARNING:absl:You are saving your model as an HDF5 file via `model.save()` or `keras.saving.save_model(model)`. This file format is considered legacy. We recommend using instead the native Keras format, e.g. `model.save('my_model.keras')` or `keras.saving.save_model(model, 'my_model.keras')`. \n"
     ]
    },
    {
     "name": "stdout",
     "output_type": "stream",
     "text": [
      "\u001b[1m248/248\u001b[0m \u001b[32m━━━━━━━━━━━━━━━━━━━━\u001b[0m\u001b[37m\u001b[0m \u001b[1m558s\u001b[0m 2s/step - accuracy: 0.8457 - loss: 0.4756 - val_accuracy: 0.8344 - val_loss: 0.4793 - learning_rate: 1.0000e-04\n",
      "Epoch 5/20\n",
      "\u001b[1m248/248\u001b[0m \u001b[32m━━━━━━━━━━━━━━━━━━━━\u001b[0m\u001b[37m\u001b[0m \u001b[1m0s\u001b[0m 2s/step - accuracy: 0.8691 - loss: 0.4150"
     ]
    },
    {
     "name": "stderr",
     "output_type": "stream",
     "text": [
      "WARNING:absl:You are saving your model as an HDF5 file via `model.save()` or `keras.saving.save_model(model)`. This file format is considered legacy. We recommend using instead the native Keras format, e.g. `model.save('my_model.keras')` or `keras.saving.save_model(model, 'my_model.keras')`. \n"
     ]
    },
    {
     "name": "stdout",
     "output_type": "stream",
     "text": [
      "\u001b[1m248/248\u001b[0m \u001b[32m━━━━━━━━━━━━━━━━━━━━\u001b[0m\u001b[37m\u001b[0m \u001b[1m553s\u001b[0m 2s/step - accuracy: 0.8691 - loss: 0.4150 - val_accuracy: 0.8493 - val_loss: 0.4457 - learning_rate: 1.0000e-04\n",
      "Epoch 6/20\n",
      "\u001b[1m248/248\u001b[0m \u001b[32m━━━━━━━━━━━━━━━━━━━━\u001b[0m\u001b[37m\u001b[0m \u001b[1m0s\u001b[0m 2s/step - accuracy: 0.8730 - loss: 0.3968"
     ]
    },
    {
     "name": "stderr",
     "output_type": "stream",
     "text": [
      "WARNING:absl:You are saving your model as an HDF5 file via `model.save()` or `keras.saving.save_model(model)`. This file format is considered legacy. We recommend using instead the native Keras format, e.g. `model.save('my_model.keras')` or `keras.saving.save_model(model, 'my_model.keras')`. \n"
     ]
    },
    {
     "name": "stdout",
     "output_type": "stream",
     "text": [
      "\u001b[1m248/248\u001b[0m \u001b[32m━━━━━━━━━━━━━━━━━━━━\u001b[0m\u001b[37m\u001b[0m \u001b[1m551s\u001b[0m 2s/step - accuracy: 0.8730 - loss: 0.3968 - val_accuracy: 0.8534 - val_loss: 0.4309 - learning_rate: 1.0000e-04\n",
      "Epoch 7/20\n",
      "\u001b[1m248/248\u001b[0m \u001b[32m━━━━━━━━━━━━━━━━━━━━\u001b[0m\u001b[37m\u001b[0m \u001b[1m0s\u001b[0m 2s/step - accuracy: 0.8817 - loss: 0.3571"
     ]
    },
    {
     "name": "stderr",
     "output_type": "stream",
     "text": [
      "WARNING:absl:You are saving your model as an HDF5 file via `model.save()` or `keras.saving.save_model(model)`. This file format is considered legacy. We recommend using instead the native Keras format, e.g. `model.save('my_model.keras')` or `keras.saving.save_model(model, 'my_model.keras')`. \n"
     ]
    },
    {
     "name": "stdout",
     "output_type": "stream",
     "text": [
      "\u001b[1m248/248\u001b[0m \u001b[32m━━━━━━━━━━━━━━━━━━━━\u001b[0m\u001b[37m\u001b[0m \u001b[1m754s\u001b[0m 3s/step - accuracy: 0.8817 - loss: 0.3571 - val_accuracy: 0.8633 - val_loss: 0.4043 - learning_rate: 1.0000e-04\n",
      "Epoch 8/20\n",
      "\u001b[1m248/248\u001b[0m \u001b[32m━━━━━━━━━━━━━━━━━━━━\u001b[0m\u001b[37m\u001b[0m \u001b[1m0s\u001b[0m 2s/step - accuracy: 0.8969 - loss: 0.3258"
     ]
    },
    {
     "name": "stderr",
     "output_type": "stream",
     "text": [
      "WARNING:absl:You are saving your model as an HDF5 file via `model.save()` or `keras.saving.save_model(model)`. This file format is considered legacy. We recommend using instead the native Keras format, e.g. `model.save('my_model.keras')` or `keras.saving.save_model(model, 'my_model.keras')`. \n"
     ]
    },
    {
     "name": "stdout",
     "output_type": "stream",
     "text": [
      "\u001b[1m248/248\u001b[0m \u001b[32m━━━━━━━━━━━━━━━━━━━━\u001b[0m\u001b[37m\u001b[0m \u001b[1m571s\u001b[0m 2s/step - accuracy: 0.8969 - loss: 0.3258 - val_accuracy: 0.8767 - val_loss: 0.3738 - learning_rate: 1.0000e-04\n",
      "Epoch 9/20\n",
      "\u001b[1m248/248\u001b[0m \u001b[32m━━━━━━━━━━━━━━━━━━━━\u001b[0m\u001b[37m\u001b[0m \u001b[1m0s\u001b[0m 2s/step - accuracy: 0.9007 - loss: 0.3072"
     ]
    },
    {
     "name": "stderr",
     "output_type": "stream",
     "text": [
      "WARNING:absl:You are saving your model as an HDF5 file via `model.save()` or `keras.saving.save_model(model)`. This file format is considered legacy. We recommend using instead the native Keras format, e.g. `model.save('my_model.keras')` or `keras.saving.save_model(model, 'my_model.keras')`. \n"
     ]
    },
    {
     "name": "stdout",
     "output_type": "stream",
     "text": [
      "\u001b[1m248/248\u001b[0m \u001b[32m━━━━━━━━━━━━━━━━━━━━\u001b[0m\u001b[37m\u001b[0m \u001b[1m522s\u001b[0m 2s/step - accuracy: 0.9007 - loss: 0.3072 - val_accuracy: 0.8850 - val_loss: 0.3530 - learning_rate: 1.0000e-04\n",
      "Epoch 10/20\n",
      "\u001b[1m248/248\u001b[0m \u001b[32m━━━━━━━━━━━━━━━━━━━━\u001b[0m\u001b[37m\u001b[0m \u001b[1m542s\u001b[0m 2s/step - accuracy: 0.9053 - loss: 0.2950 - val_accuracy: 0.8792 - val_loss: 0.3610 - learning_rate: 1.0000e-04\n",
      "Epoch 11/20\n",
      "\u001b[1m248/248\u001b[0m \u001b[32m━━━━━━━━━━━━━━━━━━━━\u001b[0m\u001b[37m\u001b[0m \u001b[1m570s\u001b[0m 2s/step - accuracy: 0.9101 - loss: 0.2856 - val_accuracy: 0.8845 - val_loss: 0.3613 - learning_rate: 1.0000e-04\n",
      "Epoch 12/20\n",
      "\u001b[1m248/248\u001b[0m \u001b[32m━━━━━━━━━━━━━━━━━━━━\u001b[0m\u001b[37m\u001b[0m \u001b[1m0s\u001b[0m 2s/step - accuracy: 0.9194 - loss: 0.2595"
     ]
    },
    {
     "name": "stderr",
     "output_type": "stream",
     "text": [
      "WARNING:absl:You are saving your model as an HDF5 file via `model.save()` or `keras.saving.save_model(model)`. This file format is considered legacy. We recommend using instead the native Keras format, e.g. `model.save('my_model.keras')` or `keras.saving.save_model(model, 'my_model.keras')`. \n"
     ]
    },
    {
     "name": "stdout",
     "output_type": "stream",
     "text": [
      "\u001b[1m248/248\u001b[0m \u001b[32m━━━━━━━━━━━━━━━━━━━━\u001b[0m\u001b[37m\u001b[0m \u001b[1m568s\u001b[0m 2s/step - accuracy: 0.9194 - loss: 0.2595 - val_accuracy: 0.8868 - val_loss: 0.3517 - learning_rate: 1.0000e-04\n",
      "Epoch 13/20\n",
      "\u001b[1m248/248\u001b[0m \u001b[32m━━━━━━━━━━━━━━━━━━━━\u001b[0m\u001b[37m\u001b[0m \u001b[1m0s\u001b[0m 2s/step - accuracy: 0.9233 - loss: 0.2471"
     ]
    },
    {
     "name": "stderr",
     "output_type": "stream",
     "text": [
      "WARNING:absl:You are saving your model as an HDF5 file via `model.save()` or `keras.saving.save_model(model)`. This file format is considered legacy. We recommend using instead the native Keras format, e.g. `model.save('my_model.keras')` or `keras.saving.save_model(model, 'my_model.keras')`. \n"
     ]
    },
    {
     "name": "stdout",
     "output_type": "stream",
     "text": [
      "\u001b[1m248/248\u001b[0m \u001b[32m━━━━━━━━━━━━━━━━━━━━\u001b[0m\u001b[37m\u001b[0m \u001b[1m567s\u001b[0m 2s/step - accuracy: 0.9233 - loss: 0.2471 - val_accuracy: 0.8863 - val_loss: 0.3371 - learning_rate: 1.0000e-04\n",
      "Epoch 14/20\n",
      "\u001b[1m248/248\u001b[0m \u001b[32m━━━━━━━━━━━━━━━━━━━━\u001b[0m\u001b[37m\u001b[0m \u001b[1m0s\u001b[0m 2s/step - accuracy: 0.9227 - loss: 0.2464"
     ]
    },
    {
     "name": "stderr",
     "output_type": "stream",
     "text": [
      "WARNING:absl:You are saving your model as an HDF5 file via `model.save()` or `keras.saving.save_model(model)`. This file format is considered legacy. We recommend using instead the native Keras format, e.g. `model.save('my_model.keras')` or `keras.saving.save_model(model, 'my_model.keras')`. \n"
     ]
    },
    {
     "name": "stdout",
     "output_type": "stream",
     "text": [
      "\u001b[1m248/248\u001b[0m \u001b[32m━━━━━━━━━━━━━━━━━━━━\u001b[0m\u001b[37m\u001b[0m \u001b[1m570s\u001b[0m 2s/step - accuracy: 0.9227 - loss: 0.2464 - val_accuracy: 0.8896 - val_loss: 0.3251 - learning_rate: 1.0000e-04\n",
      "Epoch 15/20\n",
      "\u001b[1m248/248\u001b[0m \u001b[32m━━━━━━━━━━━━━━━━━━━━\u001b[0m\u001b[37m\u001b[0m \u001b[1m0s\u001b[0m 2s/step - accuracy: 0.9254 - loss: 0.2327"
     ]
    },
    {
     "name": "stderr",
     "output_type": "stream",
     "text": [
      "WARNING:absl:You are saving your model as an HDF5 file via `model.save()` or `keras.saving.save_model(model)`. This file format is considered legacy. We recommend using instead the native Keras format, e.g. `model.save('my_model.keras')` or `keras.saving.save_model(model, 'my_model.keras')`. \n"
     ]
    },
    {
     "name": "stdout",
     "output_type": "stream",
     "text": [
      "\u001b[1m248/248\u001b[0m \u001b[32m━━━━━━━━━━━━━━━━━━━━\u001b[0m\u001b[37m\u001b[0m \u001b[1m531s\u001b[0m 2s/step - accuracy: 0.9254 - loss: 0.2327 - val_accuracy: 0.8979 - val_loss: 0.3193 - learning_rate: 1.0000e-04\n",
      "Epoch 16/20\n",
      "\u001b[1m248/248\u001b[0m \u001b[32m━━━━━━━━━━━━━━━━━━━━\u001b[0m\u001b[37m\u001b[0m \u001b[1m0s\u001b[0m 1s/step - accuracy: 0.9290 - loss: 0.2224"
     ]
    },
    {
     "name": "stderr",
     "output_type": "stream",
     "text": [
      "WARNING:absl:You are saving your model as an HDF5 file via `model.save()` or `keras.saving.save_model(model)`. This file format is considered legacy. We recommend using instead the native Keras format, e.g. `model.save('my_model.keras')` or `keras.saving.save_model(model, 'my_model.keras')`. \n"
     ]
    },
    {
     "name": "stdout",
     "output_type": "stream",
     "text": [
      "\u001b[1m248/248\u001b[0m \u001b[32m━━━━━━━━━━━━━━━━━━━━\u001b[0m\u001b[37m\u001b[0m \u001b[1m441s\u001b[0m 2s/step - accuracy: 0.9290 - loss: 0.2224 - val_accuracy: 0.8972 - val_loss: 0.3180 - learning_rate: 1.0000e-04\n",
      "Epoch 17/20\n",
      "\u001b[1m248/248\u001b[0m \u001b[32m━━━━━━━━━━━━━━━━━━━━\u001b[0m\u001b[37m\u001b[0m \u001b[1m0s\u001b[0m 1s/step - accuracy: 0.9337 - loss: 0.2050"
     ]
    },
    {
     "name": "stderr",
     "output_type": "stream",
     "text": [
      "WARNING:absl:You are saving your model as an HDF5 file via `model.save()` or `keras.saving.save_model(model)`. This file format is considered legacy. We recommend using instead the native Keras format, e.g. `model.save('my_model.keras')` or `keras.saving.save_model(model, 'my_model.keras')`. \n"
     ]
    },
    {
     "name": "stdout",
     "output_type": "stream",
     "text": [
      "\u001b[1m248/248\u001b[0m \u001b[32m━━━━━━━━━━━━━━━━━━━━\u001b[0m\u001b[37m\u001b[0m \u001b[1m446s\u001b[0m 2s/step - accuracy: 0.9337 - loss: 0.2050 - val_accuracy: 0.9035 - val_loss: 0.3053 - learning_rate: 1.0000e-04\n",
      "Epoch 18/20\n",
      "\u001b[1m248/248\u001b[0m \u001b[32m━━━━━━━━━━━━━━━━━━━━\u001b[0m\u001b[37m\u001b[0m \u001b[1m424s\u001b[0m 2s/step - accuracy: 0.9328 - loss: 0.2001 - val_accuracy: 0.8936 - val_loss: 0.3310 - learning_rate: 1.0000e-04\n",
      "Epoch 19/20\n",
      "\u001b[1m248/248\u001b[0m \u001b[32m━━━━━━━━━━━━━━━━━━━━\u001b[0m\u001b[37m\u001b[0m \u001b[1m445s\u001b[0m 2s/step - accuracy: 0.9397 - loss: 0.1851 - val_accuracy: 0.8987 - val_loss: 0.3236 - learning_rate: 1.0000e-04\n",
      "Epoch 20/20\n",
      "\u001b[1m248/248\u001b[0m \u001b[32m━━━━━━━━━━━━━━━━━━━━\u001b[0m\u001b[37m\u001b[0m \u001b[1m537s\u001b[0m 2s/step - accuracy: 0.9386 - loss: 0.1835 - val_accuracy: 0.8972 - val_loss: 0.3234 - learning_rate: 1.0000e-04\n"
     ]
    },
    {
     "data": {
      "image/png": "[encoded data removed]",
      "text/plain": [
       "<Figure size 1200x500 with 2 Axes>"
      ]
     },
     "metadata": {},
     "output_type": "display_data"
    },
    {
     "name": "stdout",
     "output_type": "stream",
     "text": [
      "Found 19762 images belonging to 10 classes.\n",
      "\n",
      "Evaluation Results:\n",
      "\u001b[1m309/309\u001b[0m \u001b[32m━━━━━━━━━━━━━━━━━━━━\u001b[0m\u001b[37m\u001b[0m \u001b[1m159s\u001b[0m 514ms/step - accuracy: 0.9520 - loss: 0.1500\n",
      "Test Accuracy: 0.9425\n",
      "Test Loss: 0.1780\n",
      "\u001b[1m309/309\u001b[0m \u001b[32m━━━━━━━━━━━━━━━━━━━━\u001b[0m\u001b[37m\u001b[0m \u001b[1m160s\u001b[0m 512ms/step\n",
      "\n",
      "Classification Report:\n",
      "              precision    recall  f1-score   support\n",
      "\n",
      "     battery       0.98      0.94      0.96       944\n",
      "  biological       0.99      0.92      0.95       997\n",
      "   cardboard       0.93      0.95      0.94      1825\n",
      "     clothes       0.98      0.99      0.98      5327\n",
      "       glass       0.94      0.95      0.94      3061\n",
      "       metal       0.81      0.94      0.87      1020\n",
      "       paper       0.85      0.96      0.90      1680\n",
      "     plastic       0.96      0.86      0.91      1984\n",
      "       shoes       0.96      0.97      0.96      1977\n",
      "       trash       0.97      0.78      0.87       947\n",
      "\n",
      "    accuracy                           0.94     19762\n",
      "   macro avg       0.94      0.93      0.93     19762\n",
      "weighted avg       0.95      0.94      0.94     19762\n",
      "\n"
     ]
    },
    {
     "data": {
      "image/png": "[encoded data removed]",
      "text/plain": [
       "<Figure size 1000x800 with 2 Axes>"
      ]
     },
     "metadata": {},
     "output_type": "display_data"
    },
    {
     "name": "stderr",
     "output_type": "stream",
     "text": [
      "c:\\Users\\HP\\AppData\\Local\\Programs\\Python\\Python310\\lib\\site-packages\\gradio\\interface.py:419: UserWarning: The `allow_flagging` parameter in `Interface` is deprecated.Use `flagging_mode` instead.\n",
      "  warnings.warn(\n"
     ]
    },
    {
     "name": "stdout",
     "output_type": "stream",
     "text": [
      "* Running on local URL:  http://127.0.0.1:7860\n",
      "* Running on public URL: https://dbc8d1bdfdb9e3e22c.gradio.live\n",
      "\n",
      "This share link expires in 1 week. For free permanent hosting and GPU upgrades, run `gradio deploy` from the terminal in the working directory to deploy to Hugging Face Spaces (https://huggingface.co/spaces)\n"
     ]
    },
    {
     "data": {
      "text/html": [
       "<div><iframe src=\"https://dbc8d1bdfdb9e3e22c.gradio.live\" width=\"100%\" height=\"500\" allow=\"autoplay; camera; microphone; clipboard-read; clipboard-write;\" frameborder=\"0\" allowfullscreen></iframe></div>"
      ],
      "text/plain": [
       "<IPython.core.display.HTML object>"
      ]
     },
     "metadata": {},
     "output_type": "display_data"
    },
    {
     "name": "stdout",
     "output_type": "stream",
     "text": [
      "\u001b[1m1/1\u001b[0m \u001b[32m━━━━━━━━━━━━━━━━━━━━\u001b[0m\u001b[37m\u001b[0m \u001b[1m1s\u001b[0m 1s/step\n"
     ]
    },
    {
     "name": "stderr",
     "output_type": "stream",
     "text": [
      "Traceback (most recent call last):\n",
      "  File \"c:\\Users\\HP\\AppData\\Local\\Programs\\Python\\Python310\\lib\\site-packages\\gradio\\queueing.py\", line 626, in process_events\n",
      "    response = await route_utils.call_process_api(\n",
      "  File \"c:\\Users\\HP\\AppData\\Local\\Programs\\Python\\Python310\\lib\\site-packages\\gradio\\route_utils.py\", line 322, in call_process_api\n",
      "    output = await app.get_blocks().process_api(\n",
      "  File \"c:\\Users\\HP\\AppData\\Local\\Programs\\Python\\Python310\\lib\\site-packages\\gradio\\blocks.py\", line 2239, in process_api\n",
      "    data = await self.postprocess_data(block_fn, result[\"prediction\"], state)\n",
      "  File \"c:\\Users\\HP\\AppData\\Local\\Programs\\Python\\Python310\\lib\\site-packages\\gradio\\blocks.py\", line 1966, in postprocess_data\n",
      "    self.validate_outputs(block_fn, predictions)  # type: ignore\n",
      "  File \"c:\\Users\\HP\\AppData\\Local\\Programs\\Python\\Python310\\lib\\site-packages\\gradio\\blocks.py\", line 1921, in validate_outputs\n",
      "    raise ValueError(\n",
      "ValueError: A  function (predict) didn't return enough output values (needed: 3, returned: 1).\n",
      "    Output components:\n",
      "        [textbox, number, label]\n",
      "    Output values returned:\n",
      "        [{'prediction': 'paper', 'confidence': 0.8424075841903687, 'probabilities': {'battery': 0.004781718831509352, 'biological': 0.0020142982248216867, 'cardboard': 0.12778307497501373, 'clothes': 0.0002090844645863399, 'glass': 0.0014216587878763676, 'metal': 0.005122806876897812, 'paper': 0.8424075841903687, 'plastic': 0.004030794836580753, 'shoes': 0.0011209986405447125, 'trash': 0.011107993312180042}}]\n"
     ]
    },
    {
     "name": "stdout",
     "output_type": "stream",
     "text": [
      "\u001b[1m1/1\u001b[0m \u001b[32m━━━━━━━━━━━━━━━━━━━━\u001b[0m\u001b[37m\u001b[0m \u001b[1m0s\u001b[0m 102ms/step\n"
     ]
    },
    {
     "name": "stderr",
     "output_type": "stream",
     "text": [
      "Traceback (most recent call last):\n",
      "  File \"c:\\Users\\HP\\AppData\\Local\\Programs\\Python\\Python310\\lib\\site-packages\\gradio\\queueing.py\", line 626, in process_events\n",
      "    response = await route_utils.call_process_api(\n",
      "  File \"c:\\Users\\HP\\AppData\\Local\\Programs\\Python\\Python310\\lib\\site-packages\\gradio\\route_utils.py\", line 322, in call_process_api\n",
      "    output = await app.get_blocks().process_api(\n",
      "  File \"c:\\Users\\HP\\AppData\\Local\\Programs\\Python\\Python310\\lib\\site-packages\\gradio\\blocks.py\", line 2239, in process_api\n",
      "    data = await self.postprocess_data(block_fn, result[\"prediction\"], state)\n",
      "  File \"c:\\Users\\HP\\AppData\\Local\\Programs\\Python\\Python310\\lib\\site-packages\\gradio\\blocks.py\", line 1966, in postprocess_data\n",
      "    self.validate_outputs(block_fn, predictions)  # type: ignore\n",
      "  File \"c:\\Users\\HP\\AppData\\Local\\Programs\\Python\\Python310\\lib\\site-packages\\gradio\\blocks.py\", line 1921, in validate_outputs\n",
      "    raise ValueError(\n",
      "ValueError: A  function (predict) didn't return enough output values (needed: 3, returned: 1).\n",
      "    Output components:\n",
      "        [textbox, number, label]\n",
      "    Output values returned:\n",
      "        [{'prediction': 'paper', 'confidence': 0.8424075841903687, 'probabilities': {'battery': 0.004781718831509352, 'biological': 0.0020142982248216867, 'cardboard': 0.12778307497501373, 'clothes': 0.0002090844645863399, 'glass': 0.0014216587878763676, 'metal': 0.005122806876897812, 'paper': 0.8424075841903687, 'plastic': 0.004030794836580753, 'shoes': 0.0011209986405447125, 'trash': 0.011107993312180042}}]\n",
      "Traceback (most recent call last):\n",
      "  File \"c:\\Users\\HP\\AppData\\Local\\Programs\\Python\\Python310\\lib\\site-packages\\gradio\\queueing.py\", line 626, in process_events\n",
      "    response = await route_utils.call_process_api(\n",
      "  File \"c:\\Users\\HP\\AppData\\Local\\Programs\\Python\\Python310\\lib\\site-packages\\gradio\\route_utils.py\", line 322, in call_process_api\n",
      "    output = await app.get_blocks().process_api(\n",
      "  File \"c:\\Users\\HP\\AppData\\Local\\Programs\\Python\\Python310\\lib\\site-packages\\gradio\\blocks.py\", line 2225, in process_api\n",
      "    inputs = await self.preprocess_data(\n",
      "  File \"c:\\Users\\HP\\AppData\\Local\\Programs\\Python\\Python310\\lib\\site-packages\\gradio\\blocks.py\", line 1871, in preprocess_data\n",
      "    inputs_cached = await processing_utils.async_move_files_to_cache(\n",
      "  File \"c:\\Users\\HP\\AppData\\Local\\Programs\\Python\\Python310\\lib\\site-packages\\gradio\\processing_utils.py\", line 676, in async_move_files_to_cache\n",
      "    return await client_utils.async_traverse(\n",
      "  File \"c:\\Users\\HP\\AppData\\Local\\Programs\\Python\\Python310\\lib\\site-packages\\gradio_client\\utils.py\", line 1164, in async_traverse\n",
      "    return await func(json_obj)\n",
      "  File \"c:\\Users\\HP\\AppData\\Local\\Programs\\Python\\Python310\\lib\\site-packages\\gradio\\processing_utils.py\", line 647, in _move_to_cache\n",
      "    _check_allowed(payload.path, check_in_upload_folder)\n",
      "  File \"c:\\Users\\HP\\AppData\\Local\\Programs\\Python\\Python310\\lib\\site-packages\\gradio\\processing_utils.py\", line 592, in _check_allowed\n",
      "    raise InvalidPathError(msg)\n",
      "gradio.exceptions.InvalidPathError: Cannot move e:\\Garbage Classification\\notebooks\\examples\\cardboard_box.jpg to the gradio cache dir because it was not uploaded by a user.\n"
     ]
    },
    {
     "name": "stdout",
     "output_type": "stream",
     "text": [
      "\u001b[1m1/1\u001b[0m \u001b[32m━━━━━━━━━━━━━━━━━━━━\u001b[0m\u001b[37m\u001b[0m \u001b[1m0s\u001b[0m 367ms/step\n"
     ]
    },
    {
     "name": "stderr",
     "output_type": "stream",
     "text": [
      "Traceback (most recent call last):\n",
      "  File \"c:\\Users\\HP\\AppData\\Local\\Programs\\Python\\Python310\\lib\\site-packages\\gradio\\queueing.py\", line 626, in process_events\n",
      "    response = await route_utils.call_process_api(\n",
      "  File \"c:\\Users\\HP\\AppData\\Local\\Programs\\Python\\Python310\\lib\\site-packages\\gradio\\route_utils.py\", line 322, in call_process_api\n",
      "    output = await app.get_blocks().process_api(\n",
      "  File \"c:\\Users\\HP\\AppData\\Local\\Programs\\Python\\Python310\\lib\\site-packages\\gradio\\blocks.py\", line 2239, in process_api\n",
      "    data = await self.postprocess_data(block_fn, result[\"prediction\"], state)\n",
      "  File \"c:\\Users\\HP\\AppData\\Local\\Programs\\Python\\Python310\\lib\\site-packages\\gradio\\blocks.py\", line 1966, in postprocess_data\n",
      "    self.validate_outputs(block_fn, predictions)  # type: ignore\n",
      "  File \"c:\\Users\\HP\\AppData\\Local\\Programs\\Python\\Python310\\lib\\site-packages\\gradio\\blocks.py\", line 1921, in validate_outputs\n",
      "    raise ValueError(\n",
      "ValueError: A  function (predict) didn't return enough output values (needed: 3, returned: 1).\n",
      "    Output components:\n",
      "        [textbox, number, label]\n",
      "    Output values returned:\n",
      "        [{'prediction': 'plastic', 'confidence': 0.38382235169410706, 'probabilities': {'battery': 0.0009054709225893021, 'biological': 0.10715346038341522, 'cardboard': 0.0028676975052803755, 'clothes': 0.0026123819407075644, 'glass': 0.19268794357776642, 'metal': 0.0057225339114665985, 'paper': 0.0012249361025169492, 'plastic': 0.38382235169410706, 'shoes': 0.010566296055912971, 'trash': 0.2924368977546692}}]\n"
     ]
    }
   ],
   "source": [
    "import os\n",
    "import numpy as np\n",
    "import tensorflow as tf\n",
    "from tensorflow.keras.models import Sequential\n",
    "from tensorflow.keras.layers import Dense, Dropout, Flatten, Conv2D, MaxPooling2D, GlobalAveragePooling2D, BatchNormalization\n",
    "from tensorflow.keras.applications import MobileNetV2, VGG16, ResNet50\n",
    "from tensorflow.keras.optimizers import Adam\n",
    "from tensorflow.keras.callbacks import EarlyStopping, ReduceLROnPlateau, ModelCheckpoint\n",
    "from tensorflow.keras.preprocessing.image import ImageDataGenerator\n",
    "from sklearn.metrics import classification_report, confusion_matrix\n",
    "import gradio as gr\n",
    "import matplotlib.pyplot as plt\n",
    "import seaborn as sns\n",
    "\n",
    "# GPU Optimization\n",
    "gpus = tf.config.experimental.list_physical_devices('GPU')\n",
    "if gpus:\n",
    "    try:\n",
    "        for gpu in gpus:\n",
    "            tf.config.experimental.set_memory_growth(gpu, True)\n",
    "        policy = tf.keras.mixed_precision.Policy('mixed_float16')\n",
    "        tf.keras.mixed_precision.set_global_policy(policy)\n",
    "    except RuntimeError as e:\n",
    "        print(f\"GPU optimization error: {e}\")\n",
    "\n",
    "class GarbageClassificationSystem:\n",
    "    def __init__(self, data_path, img_size=(160, 160), batch_size=64):\n",
    "        self.data_path = data_path\n",
    "        self.img_size = img_size\n",
    "        self.batch_size = batch_size\n",
    "        self.model = None\n",
    "        self.class_names = []\n",
    "        self.history = None\n",
    "\n",
    "    def create_data_pipeline(self):\n",
    "        \"\"\"Optimized data pipeline with augmentation\"\"\"\n",
    "        train_datagen = ImageDataGenerator(\n",
    "            rescale=1./255,\n",
    "            validation_split=0.2,\n",
    "            rotation_range=15,\n",
    "            width_shift_range=0.1,\n",
    "            height_shift_range=0.1,\n",
    "            horizontal_flip=True,\n",
    "            zoom_range=0.1,\n",
    "            fill_mode='nearest'\n",
    "        )\n",
    "\n",
    "        train_generator = train_datagen.flow_from_directory(\n",
    "            self.data_path,\n",
    "            target_size=self.img_size,\n",
    "            batch_size=self.batch_size,\n",
    "            class_mode='categorical',\n",
    "            subset='training',\n",
    "            shuffle=True\n",
    "        )\n",
    "\n",
    "        val_generator = train_datagen.flow_from_directory(\n",
    "            self.data_path,\n",
    "            target_size=self.img_size,\n",
    "            batch_size=self.batch_size,\n",
    "            class_mode='categorical',\n",
    "            subset='validation'\n",
    "        )\n",
    "\n",
    "        self.class_names = list(train_generator.class_indices.keys())\n",
    "        return train_generator, val_generator\n",
    "\n",
    "    def build_model(self, model_type='mobilenet'):\n",
    "        \"\"\"Build model with multiple architecture options\"\"\"\n",
    "        def add_head(base_model=None):\n",
    "            if base_model:\n",
    "                model = Sequential([\n",
    "                    base_model,\n",
    "                    GlobalAveragePooling2D(),\n",
    "                    BatchNormalization(),\n",
    "                    Dense(128, activation='relu'),\n",
    "                    Dropout(0.3),\n",
    "                    BatchNormalization(),\n",
    "                    Dense(len(self.class_names), activation='softmax', dtype='float32')\n",
    "                ])\n",
    "            else:\n",
    "                model = Sequential([\n",
    "                    Conv2D(32, (3,3), activation='relu', input_shape=(*self.img_size, 3)),\n",
    "                    MaxPooling2D(2,2),\n",
    "                    BatchNormalization(),\n",
    "                    Conv2D(64, (3,3), activation='relu'),\n",
    "                    MaxPooling2D(2,2),\n",
    "                    BatchNormalization(),\n",
    "                    Conv2D(128, (3,3), activation='relu'),\n",
    "                    GlobalAveragePooling2D(),\n",
    "                    Dropout(0.5),\n",
    "                    Dense(len(self.class_names), activation='softmax')\n",
    "                ])\n",
    "            return model\n",
    "\n",
    "        if model_type == 'cnn':\n",
    "            model = add_head()\n",
    "        elif model_type == 'mobilenet':\n",
    "            base_model = MobileNetV2(input_shape=(*self.img_size, 3), include_top=False, weights='imagenet', alpha=0.35)\n",
    "            base_model.trainable = True\n",
    "            for layer in base_model.layers[:-15]:\n",
    "                layer.trainable = False\n",
    "            model = add_head(base_model)\n",
    "        elif model_type == 'vgg16':\n",
    "            base_model = VGG16(input_shape=(*self.img_size, 3), include_top=False, weights='imagenet')\n",
    "            base_model.trainable = True\n",
    "            for layer in base_model.layers[:-8]:\n",
    "                layer.trainable = False\n",
    "            model = add_head(base_model)\n",
    "        elif model_type == 'resnet':\n",
    "            base_model = ResNet50(input_shape=(*self.img_size, 3), include_top=False, weights='imagenet')\n",
    "            base_model.trainable = True\n",
    "            for layer in base_model.layers[:-20]:\n",
    "                layer.trainable = False\n",
    "            model = add_head(base_model)\n",
    "\n",
    "        model.compile(\n",
    "            optimizer=Adam(learning_rate=0.0001),\n",
    "            loss='categorical_crossentropy',\n",
    "            metrics=['accuracy']\n",
    "        )\n",
    "        return model\n",
    "\n",
    "    def train(self, model_type='mobilenet', epochs=20):\n",
    "        \"\"\"Train the selected model\"\"\"\n",
    "        train_gen, val_gen = self.create_data_pipeline()\n",
    "        self.model = self.build_model(model_type)\n",
    "        \n",
    "        print(f\"\\nTraining {model_type.upper()} model...\")\n",
    "        self.model.summary()\n",
    "\n",
    "        callbacks = [\n",
    "            EarlyStopping(patience=5, restore_best_weights=True),\n",
    "            ReduceLROnPlateau(factor=0.2, patience=3),\n",
    "            ModelCheckpoint('best_model.h5', save_best_only=True)\n",
    "        ]\n",
    "\n",
    "        self.history = self.model.fit(\n",
    "            train_gen,\n",
    "            epochs=epochs,\n",
    "            validation_data=val_gen,\n",
    "            callbacks=callbacks,\n",
    "            verbose=1\n",
    "        )\n",
    "        self.plot_training_metrics()\n",
    "        return self.history\n",
    "\n",
    "    def evaluate(self):\n",
    "        \"\"\"Evaluate model performance\"\"\"\n",
    "        test_datagen = ImageDataGenerator(rescale=1./255)\n",
    "        test_gen = test_datagen.flow_from_directory(\n",
    "            self.data_path,\n",
    "            target_size=self.img_size,\n",
    "            batch_size=self.batch_size,\n",
    "            class_mode='categorical',\n",
    "            shuffle=False\n",
    "        )\n",
    "\n",
    "        print(\"\\nEvaluation Results:\")\n",
    "        loss, accuracy = self.model.evaluate(test_gen)\n",
    "        print(f\"Test Accuracy: {accuracy:.4f}\")\n",
    "        print(f\"Test Loss: {loss:.4f}\")\n",
    "\n",
    "        y_pred = np.argmax(self.model.predict(test_gen), axis=1)\n",
    "        y_true = test_gen.classes\n",
    "\n",
    "        print(\"\\nClassification Report:\")\n",
    "        print(classification_report(y_true, y_pred, target_names=self.class_names))\n",
    "        self.plot_confusion_matrix(y_true, y_pred)\n",
    "\n",
    "    def plot_training_metrics(self):\n",
    "        \"\"\"Plot training history\"\"\"\n",
    "        plt.figure(figsize=(12, 5))\n",
    "        \n",
    "        plt.subplot(1, 2, 1)\n",
    "        plt.plot(self.history.history['accuracy'], label='Train')\n",
    "        plt.plot(self.history.history['val_accuracy'], label='Validation')\n",
    "        plt.title('Accuracy')\n",
    "        plt.xlabel('Epoch')\n",
    "        plt.ylabel('Accuracy')\n",
    "        plt.legend()\n",
    "\n",
    "        plt.subplot(1, 2, 2)\n",
    "        plt.plot(self.history.history['loss'], label='Train')\n",
    "        plt.plot(self.history.history['val_loss'], label='Validation')\n",
    "        plt.title('Loss')\n",
    "        plt.xlabel('Epoch')\n",
    "        plt.ylabel('Loss')\n",
    "        plt.legend()\n",
    "\n",
    "        plt.tight_layout()\n",
    "        plt.show()\n",
    "\n",
    "    def plot_confusion_matrix(self, y_true, y_pred):\n",
    "        \"\"\"Visualize confusion matrix\"\"\"\n",
    "        cm = confusion_matrix(y_true, y_pred)\n",
    "        plt.figure(figsize=(10, 8))\n",
    "        sns.heatmap(cm, annot=True, fmt='d', cmap='Blues',\n",
    "                   xticklabels=self.class_names,\n",
    "                   yticklabels=self.class_names)\n",
    "        plt.title('Confusion Matrix')\n",
    "        plt.xlabel('Predicted')\n",
    "        plt.ylabel('True')\n",
    "        plt.xticks(rotation=45)\n",
    "        plt.yticks(rotation=0)\n",
    "        plt.show()\n",
    "\n",
    "    def create_gradio_app(self):\n",
    "        \"\"\"Create interactive web interface\"\"\"\n",
    "        def predict(image):\n",
    "            img = image.resize(self.img_size)\n",
    "            img_array = np.array(img) / 255.0\n",
    "            img_array = np.expand_dims(img_array, axis=0)\n",
    "            \n",
    "            preds = self.model.predict(img_array)[0]\n",
    "            top_class = self.class_names[np.argmax(preds)]\n",
    "            confidences = {self.class_names[i]: float(preds[i]) for i in range(len(self.class_names))}\n",
    "            \n",
    "            return {\n",
    "                \"prediction\": top_class,\n",
    "                \"confidence\": float(np.max(preds)),\n",
    "                \"probabilities\": confidences\n",
    "            }\n",
    "\n",
    "        interface = gr.Interface(\n",
    "            fn=predict,\n",
    "            inputs=gr.Image(type=\"pil\", label=\"Upload Image\"),\n",
    "            outputs=[\n",
    "                gr.Textbox(label=\"Predicted Class\"),\n",
    "                gr.Number(label=\"Confidence Score\"),\n",
    "                gr.Label(label=\"Class Probabilities\")\n",
    "            ],\n",
    "            title=\"♻️ Smart Garbage Classifier\",\n",
    "            description=\"Upload an image to classify waste material\",\n",
    "            examples=[\n",
    "                os.path.join(\"examples\", \"plastic_bottle.jpg\"),\n",
    "                os.path.join(\"examples\", \"cardboard_box.jpg\")\n",
    "            ],\n",
    "            allow_flagging=\"never\"\n",
    "        )\n",
    "        return interface\n",
    "\n",
    "if __name__ == \"__main__\":\n",
    "    # Initialize system\n",
    "    classifier = GarbageClassificationSystem(\n",
    "        data_path=\"E:/Garbage Classification/data/original data\",\n",
    "        img_size=(160, 160),\n",
    "        batch_size=64\n",
    "    )\n",
    "\n",
    "    # Train model (options: 'cnn', 'mobilenet', 'vgg16', 'resnet')\n",
    "    classifier.train(model_type='mobilenet', epochs=20)\n",
    "\n",
    "    # Evaluate performance\n",
    "    classifier.evaluate()\n",
    "\n",
    "    # Launch web interface\n",
    "    classifier.create_gradio_app().launch(share=True)"
   ]
  },
  {
   "cell_type": "code",
   "execution_count": null,
   "id": "9b0ec96c",
   "metadata": {},
   "outputs": [
    {
     "name": "stderr",
     "output_type": "stream",
     "text": [
      "WARNING:absl:Compiled the loaded model, but the compiled metrics have yet to be built. `model.compile_metrics` will be empty until you train or evaluate the model.\n"
     ]
    },
    {
     "name": "stdout",
     "output_type": "stream",
     "text": [
      "* Running on local URL:  http://127.0.0.1:7863\n",
      "* Running on public URL: https://df1dba90f7bc4cdb5d.gradio.live\n",
      "\n",
      "This share link expires in 1 week. For free permanent hosting and GPU upgrades, run `gradio deploy` from the terminal in the working directory to deploy to Hugging Face Spaces (https://huggingface.co/spaces)\n"
     ]
    },
    {
     "data": {
      "text/html": [
       "<div><iframe src=\"https://df1dba90f7bc4cdb5d.gradio.live\" width=\"100%\" height=\"500\" allow=\"autoplay; camera; microphone; clipboard-read; clipboard-write;\" frameborder=\"0\" allowfullscreen></iframe></div>"
      ],
      "text/plain": [
       "<IPython.core.display.HTML object>"
      ]
     },
     "metadata": {},
     "output_type": "display_data"
    },
    {
     "data": {
      "text/plain": []
     },
     "execution_count": 4,
     "metadata": {},
     "output_type": "execute_result"
    },
    {
     "name": "stdout",
     "output_type": "stream",
     "text": [
      "\u001b[1m1/1\u001b[0m \u001b[32m━━━━━━━━━━━━━━━━━━━━\u001b[0m\u001b[37m\u001b[0m \u001b[1m1s\u001b[0m 1s/step\n",
      "\u001b[1m1/1\u001b[0m \u001b[32m━━━━━━━━━━━━━━━━━━━━\u001b[0m\u001b[37m\u001b[0m \u001b[1m0s\u001b[0m 90ms/step\n",
      "\u001b[1m1/1\u001b[0m \u001b[32m━━━━━━━━━━━━━━━━━━━━\u001b[0m\u001b[37m\u001b[0m \u001b[1m0s\u001b[0m 94ms/step\n",
      "\u001b[1m1/1\u001b[0m \u001b[32m━━━━━━━━━━━━━━━━━━━━\u001b[0m\u001b[37m\u001b[0m \u001b[1m0s\u001b[0m 88ms/step\n"
     ]
    }
   ],
   "source": [
    "import gradio as gr\n",
    "import numpy as np\n",
    "from PIL import Image\n",
    "import tensorflow as tf\n",
    "\n",
    "# Load model\n",
    "model = tf.keras.models.load_model(\"best_model.h5\")\n",
    "\n",
    "# Define class names\n",
    "class_names = ['battery', 'biological', 'cardboard', 'clothes', 'glass',\n",
    "               'metal', 'paper', 'plastic', 'shoes', 'trash']\n",
    "\n",
    "# Prediction function\n",
    "def predict(image):\n",
    "    try:\n",
    "        if image.mode != 'RGB':\n",
    "            image = image.convert('RGB')\n",
    "\n",
    "        image = image.resize((160, 160))  # Match model input\n",
    "        img_array = np.array(image) / 255.0\n",
    "        img_array = np.expand_dims(img_array, axis=0)\n",
    "\n",
    "        predictions = model.predict(img_array)[0]\n",
    "        predicted_class = class_names[np.argmax(predictions)]\n",
    "        confidence = float(np.max(predictions))\n",
    "        probabilities = {class_names[i]: float(predictions[i]) for i in range(len(class_names))}\n",
    "\n",
    "        return predicted_class, f\"{confidence:.2f}\", probabilities\n",
    "    except Exception as e:\n",
    "        print(\"Prediction Error:\", e)\n",
    "        return \"Error\", \"0.0\", {}\n",
    "\n",
    "# Gradio interface\n",
    "interface = gr.Interface(\n",
    "    fn=predict,\n",
    "    inputs=gr.Image(type=\"pil\"),\n",
    "    outputs=[\n",
    "        gr.Textbox(label=\"Predicted Class\"),\n",
    "        gr.Textbox(label=\"Confidence Score\"),\n",
    "        gr.Label(label=\"Class Probabilities\")\n",
    "    ],\n",
    "    title=\"Garbage Classifier\"\n",
    ")\n",
    "\n",
    "interface.launch(share=True)\n"
   ]
  },
  {
   "cell_type": "code",
   "execution_count": 13,
   "id": "8060fa4e",
   "metadata": {},
   "outputs": [
    {
     "name": "stdout",
     "output_type": "stream",
     "text": [
      "Requirement already satisfied: tensorflow in c:\\users\\hp\\appdata\\local\\programs\\python\\python310\\lib\\site-packages (2.19.0)\n",
      "Requirement already satisfied: gradio in c:\\users\\hp\\appdata\\local\\programs\\python\\python310\\lib\\site-packages (5.36.2)\n",
      "Requirement already satisfied: pillow in c:\\users\\hp\\appdata\\local\\programs\\python\\python310\\lib\\site-packages (11.2.1)\n",
      "Requirement already satisfied: absl-py>=1.0.0 in c:\\users\\hp\\appdata\\local\\programs\\python\\python310\\lib\\site-packages (from tensorflow) (2.2.2)\n",
      "Requirement already satisfied: astunparse>=1.6.0 in c:\\users\\hp\\appdata\\local\\programs\\python\\python310\\lib\\site-packages (from tensorflow) (1.6.3)\n",
      "Requirement already satisfied: flatbuffers>=24.3.25 in c:\\users\\hp\\appdata\\local\\programs\\python\\python310\\lib\\site-packages (from tensorflow) (25.2.10)\n",
      "Requirement already satisfied: gast!=0.5.0,!=0.5.1,!=0.5.2,>=0.2.1 in c:\\users\\hp\\appdata\\local\\programs\\python\\python310\\lib\\site-packages (from tensorflow) (0.6.0)\n",
      "Requirement already satisfied: google-pasta>=0.1.1 in c:\\users\\hp\\appdata\\local\\programs\\python\\python310\\lib\\site-packages (from tensorflow) (0.2.0)\n",
      "Requirement already satisfied: libclang>=13.0.0 in c:\\users\\hp\\appdata\\local\\programs\\python\\python310\\lib\\site-packages (from tensorflow) (18.1.1)\n",
      "Requirement already satisfied: opt-einsum>=2.3.2 in c:\\users\\hp\\appdata\\local\\programs\\python\\python310\\lib\\site-packages (from tensorflow) (3.4.0)\n",
      "Requirement already satisfied: packaging in c:\\users\\hp\\appdata\\local\\programs\\python\\python310\\lib\\site-packages (from tensorflow) (24.2)\n",
      "Requirement already satisfied: protobuf!=4.21.0,!=4.21.1,!=4.21.2,!=4.21.3,!=4.21.4,!=4.21.5,<6.0.0dev,>=3.20.3 in c:\\users\\hp\\appdata\\local\\programs\\python\\python310\\lib\\site-packages (from tensorflow) (5.29.4)\n",
      "Requirement already satisfied: requests<3,>=2.21.0 in c:\\users\\hp\\appdata\\local\\programs\\python\\python310\\lib\\site-packages (from tensorflow) (2.32.3)\n",
      "Requirement already satisfied: setuptools in c:\\users\\hp\\appdata\\local\\programs\\python\\python310\\lib\\site-packages (from tensorflow) (65.5.0)\n",
      "Requirement already satisfied: six>=1.12.0 in c:\\users\\hp\\appdata\\roaming\\python\\python310\\site-packages (from tensorflow) (1.17.0)\n",
      "Requirement already satisfied: termcolor>=1.1.0 in c:\\users\\hp\\appdata\\local\\programs\\python\\python310\\lib\\site-packages (from tensorflow) (3.1.0)\n",
      "Requirement already satisfied: typing-extensions>=3.6.6 in c:\\users\\hp\\appdata\\roaming\\python\\python310\\site-packages (from tensorflow) (4.13.2)\n",
      "Requirement already satisfied: wrapt>=1.11.0 in c:\\users\\hp\\appdata\\local\\programs\\python\\python310\\lib\\site-packages (from tensorflow) (1.17.2)\n",
      "Requirement already satisfied: grpcio<2.0,>=1.24.3 in c:\\users\\hp\\appdata\\local\\programs\\python\\python310\\lib\\site-packages (from tensorflow) (1.71.0)\n",
      "Requirement already satisfied: tensorboard~=2.19.0 in c:\\users\\hp\\appdata\\local\\programs\\python\\python310\\lib\\site-packages (from tensorflow) (2.19.0)\n",
      "Requirement already satisfied: keras>=3.5.0 in c:\\users\\hp\\appdata\\local\\programs\\python\\python310\\lib\\site-packages (from tensorflow) (3.9.2)\n",
      "Requirement already satisfied: numpy<2.2.0,>=1.26.0 in c:\\users\\hp\\appdata\\local\\programs\\python\\python310\\lib\\site-packages (from tensorflow) (2.1.3)\n",
      "Requirement already satisfied: h5py>=3.11.0 in c:\\users\\hp\\appdata\\local\\programs\\python\\python310\\lib\\site-packages (from tensorflow) (3.13.0)\n",
      "Requirement already satisfied: ml-dtypes<1.0.0,>=0.5.1 in c:\\users\\hp\\appdata\\local\\programs\\python\\python310\\lib\\site-packages (from tensorflow) (0.5.1)\n",
      "Requirement already satisfied: tensorflow-io-gcs-filesystem>=0.23.1 in c:\\users\\hp\\appdata\\local\\programs\\python\\python310\\lib\\site-packages (from tensorflow) (0.31.0)\n",
      "Requirement already satisfied: charset-normalizer<4,>=2 in c:\\users\\hp\\appdata\\local\\programs\\python\\python310\\lib\\site-packages (from requests<3,>=2.21.0->tensorflow) (3.4.2)\n",
      "Requirement already satisfied: idna<4,>=2.5 in c:\\users\\hp\\appdata\\local\\programs\\python\\python310\\lib\\site-packages (from requests<3,>=2.21.0->tensorflow) (3.10)\n",
      "Requirement already satisfied: urllib3<3,>=1.21.1 in c:\\users\\hp\\appdata\\local\\programs\\python\\python310\\lib\\site-packages (from requests<3,>=2.21.0->tensorflow) (2.4.0)\n",
      "Requirement already satisfied: certifi>=2017.4.17 in c:\\users\\hp\\appdata\\local\\programs\\python\\python310\\lib\\site-packages (from requests<3,>=2.21.0->tensorflow) (2025.4.26)\n",
      "Requirement already satisfied: markdown>=2.6.8 in c:\\users\\hp\\appdata\\local\\programs\\python\\python310\\lib\\site-packages (from tensorboard~=2.19.0->tensorflow) (3.8)\n",
      "Requirement already satisfied: tensorboard-data-server<0.8.0,>=0.7.0 in c:\\users\\hp\\appdata\\local\\programs\\python\\python310\\lib\\site-packages (from tensorboard~=2.19.0->tensorflow) (0.7.2)\n",
      "Requirement already satisfied: werkzeug>=1.0.1 in c:\\users\\hp\\appdata\\local\\programs\\python\\python310\\lib\\site-packages (from tensorboard~=2.19.0->tensorflow) (3.1.3)\n",
      "Requirement already satisfied: aiofiles<25.0,>=22.0 in c:\\users\\hp\\appdata\\local\\programs\\python\\python310\\lib\\site-packages (from gradio) (24.1.0)\n",
      "Requirement already satisfied: anyio<5.0,>=3.0 in c:\\users\\hp\\appdata\\local\\programs\\python\\python310\\lib\\site-packages (from gradio) (4.9.0)\n",
      "Requirement already satisfied: brotli>=1.1.0 in c:\\users\\hp\\appdata\\local\\programs\\python\\python310\\lib\\site-packages (from gradio) (1.1.0)\n",
      "Requirement already satisfied: fastapi<1.0,>=0.115.2 in c:\\users\\hp\\appdata\\local\\programs\\python\\python310\\lib\\site-packages (from gradio) (0.115.9)\n",
      "Requirement already satisfied: ffmpy in c:\\users\\hp\\appdata\\local\\programs\\python\\python310\\lib\\site-packages (from gradio) (0.6.0)\n",
      "Requirement already satisfied: gradio-client==1.10.4 in c:\\users\\hp\\appdata\\local\\programs\\python\\python310\\lib\\site-packages (from gradio) (1.10.4)\n",
      "Requirement already satisfied: groovy~=0.1 in c:\\users\\hp\\appdata\\local\\programs\\python\\python310\\lib\\site-packages (from gradio) (0.1.2)\n",
      "Requirement already satisfied: httpx<1.0,>=0.24.1 in c:\\users\\hp\\appdata\\local\\programs\\python\\python310\\lib\\site-packages (from gradio) (0.28.1)\n",
      "Requirement already satisfied: huggingface-hub>=0.28.1 in c:\\users\\hp\\appdata\\local\\programs\\python\\python310\\lib\\site-packages (from gradio) (0.31.2)\n",
      "Requirement already satisfied: jinja2<4.0 in c:\\users\\hp\\appdata\\local\\programs\\python\\python310\\lib\\site-packages (from gradio) (3.1.6)\n",
      "Requirement already satisfied: markupsafe<4.0,>=2.0 in c:\\users\\hp\\appdata\\local\\programs\\python\\python310\\lib\\site-packages (from gradio) (3.0.2)\n",
      "Requirement already satisfied: orjson~=3.0 in c:\\users\\hp\\appdata\\local\\programs\\python\\python310\\lib\\site-packages (from gradio) (3.10.18)\n",
      "Requirement already satisfied: pandas<3.0,>=1.0 in c:\\users\\hp\\appdata\\local\\programs\\python\\python310\\lib\\site-packages (from gradio) (2.2.3)\n",
      "Requirement already satisfied: pydantic<2.12,>=2.0 in c:\\users\\hp\\appdata\\local\\programs\\python\\python310\\lib\\site-packages (from gradio) (2.11.5)\n",
      "Requirement already satisfied: pydub in c:\\users\\hp\\appdata\\local\\programs\\python\\python310\\lib\\site-packages (from gradio) (0.25.1)\n",
      "Requirement already satisfied: python-multipart>=0.0.18 in c:\\users\\hp\\appdata\\local\\programs\\python\\python310\\lib\\site-packages (from gradio) (0.0.20)\n",
      "Requirement already satisfied: pyyaml<7.0,>=5.0 in c:\\users\\hp\\appdata\\local\\programs\\python\\python310\\lib\\site-packages (from gradio) (6.0.2)\n",
      "Requirement already satisfied: ruff>=0.9.3 in c:\\users\\hp\\appdata\\local\\programs\\python\\python310\\lib\\site-packages (from gradio) (0.12.3)\n",
      "Requirement already satisfied: safehttpx<0.2.0,>=0.1.6 in c:\\users\\hp\\appdata\\local\\programs\\python\\python310\\lib\\site-packages (from gradio) (0.1.6)\n",
      "Requirement already satisfied: semantic-version~=2.0 in c:\\users\\hp\\appdata\\local\\programs\\python\\python310\\lib\\site-packages (from gradio) (2.10.0)\n",
      "Requirement already satisfied: starlette<1.0,>=0.40.0 in c:\\users\\hp\\appdata\\local\\programs\\python\\python310\\lib\\site-packages (from gradio) (0.45.3)\n",
      "Requirement already satisfied: tomlkit<0.14.0,>=0.12.0 in c:\\users\\hp\\appdata\\local\\programs\\python\\python310\\lib\\site-packages (from gradio) (0.13.3)\n",
      "Requirement already satisfied: typer<1.0,>=0.12 in c:\\users\\hp\\appdata\\local\\programs\\python\\python310\\lib\\site-packages (from gradio) (0.15.4)\n",
      "Requirement already satisfied: uvicorn>=0.14.0 in c:\\users\\hp\\appdata\\local\\programs\\python\\python310\\lib\\site-packages (from gradio) (0.34.2)\n",
      "Requirement already satisfied: fsspec in c:\\users\\hp\\appdata\\local\\programs\\python\\python310\\lib\\site-packages (from gradio-client==1.10.4->gradio) (2025.3.2)\n",
      "Requirement already satisfied: websockets<16.0,>=10.0 in c:\\users\\hp\\appdata\\local\\programs\\python\\python310\\lib\\site-packages (from gradio-client==1.10.4->gradio) (15.0.1)\n",
      "Requirement already satisfied: exceptiongroup>=1.0.2 in c:\\users\\hp\\appdata\\roaming\\python\\python310\\site-packages (from anyio<5.0,>=3.0->gradio) (1.2.2)\n",
      "Requirement already satisfied: sniffio>=1.1 in c:\\users\\hp\\appdata\\local\\programs\\python\\python310\\lib\\site-packages (from anyio<5.0,>=3.0->gradio) (1.3.1)\n",
      "Requirement already satisfied: httpcore==1.* in c:\\users\\hp\\appdata\\local\\programs\\python\\python310\\lib\\site-packages (from httpx<1.0,>=0.24.1->gradio) (1.0.9)\n",
      "Requirement already satisfied: h11>=0.16 in c:\\users\\hp\\appdata\\local\\programs\\python\\python310\\lib\\site-packages (from httpcore==1.*->httpx<1.0,>=0.24.1->gradio) (0.16.0)\n",
      "Requirement already satisfied: python-dateutil>=2.8.2 in c:\\users\\hp\\appdata\\roaming\\python\\python310\\site-packages (from pandas<3.0,>=1.0->gradio) (2.9.0.post0)\n",
      "Requirement already satisfied: pytz>=2020.1 in c:\\users\\hp\\appdata\\local\\programs\\python\\python310\\lib\\site-packages (from pandas<3.0,>=1.0->gradio) (2025.2)\n",
      "Requirement already satisfied: tzdata>=2022.7 in c:\\users\\hp\\appdata\\local\\programs\\python\\python310\\lib\\site-packages (from pandas<3.0,>=1.0->gradio) (2025.2)\n",
      "Requirement already satisfied: annotated-types>=0.6.0 in c:\\users\\hp\\appdata\\local\\programs\\python\\python310\\lib\\site-packages (from pydantic<2.12,>=2.0->gradio) (0.7.0)\n",
      "Requirement already satisfied: pydantic-core==2.33.2 in c:\\users\\hp\\appdata\\local\\programs\\python\\python310\\lib\\site-packages (from pydantic<2.12,>=2.0->gradio) (2.33.2)\n",
      "Requirement already satisfied: typing-inspection>=0.4.0 in c:\\users\\hp\\appdata\\local\\programs\\python\\python310\\lib\\site-packages (from pydantic<2.12,>=2.0->gradio) (0.4.1)\n",
      "Requirement already satisfied: click<8.2,>=8.0.0 in c:\\users\\hp\\appdata\\local\\programs\\python\\python310\\lib\\site-packages (from typer<1.0,>=0.12->gradio) (8.1.8)\n",
      "Requirement already satisfied: shellingham>=1.3.0 in c:\\users\\hp\\appdata\\local\\programs\\python\\python310\\lib\\site-packages (from typer<1.0,>=0.12->gradio) (1.5.4)\n",
      "Requirement already satisfied: rich>=10.11.0 in c:\\users\\hp\\appdata\\local\\programs\\python\\python310\\lib\\site-packages (from typer<1.0,>=0.12->gradio) (13.9.4)\n",
      "Requirement already satisfied: colorama in c:\\users\\hp\\appdata\\roaming\\python\\python310\\site-packages (from click<8.2,>=8.0.0->typer<1.0,>=0.12->gradio) (0.4.6)\n",
      "Requirement already satisfied: wheel<1.0,>=0.23.0 in c:\\users\\hp\\appdata\\local\\programs\\python\\python310\\lib\\site-packages (from astunparse>=1.6.0->tensorflow) (0.45.1)\n",
      "Requirement already satisfied: filelock in c:\\users\\hp\\appdata\\local\\programs\\python\\python310\\lib\\site-packages (from huggingface-hub>=0.28.1->gradio) (3.18.0)\n",
      "Requirement already satisfied: tqdm>=4.42.1 in c:\\users\\hp\\appdata\\local\\programs\\python\\python310\\lib\\site-packages (from huggingface-hub>=0.28.1->gradio) (4.67.1)\n",
      "Requirement already satisfied: namex in c:\\users\\hp\\appdata\\local\\programs\\python\\python310\\lib\\site-packages (from keras>=3.5.0->tensorflow) (0.0.9)\n",
      "Requirement already satisfied: optree in c:\\users\\hp\\appdata\\local\\programs\\python\\python310\\lib\\site-packages (from keras>=3.5.0->tensorflow) (0.15.0)\n",
      "Requirement already satisfied: markdown-it-py>=2.2.0 in c:\\users\\hp\\appdata\\local\\programs\\python\\python310\\lib\\site-packages (from rich>=10.11.0->typer<1.0,>=0.12->gradio) (3.0.0)\n",
      "Requirement already satisfied: pygments<3.0.0,>=2.13.0 in c:\\users\\hp\\appdata\\roaming\\python\\python310\\site-packages (from rich>=10.11.0->typer<1.0,>=0.12->gradio) (2.19.1)\n",
      "Requirement already satisfied: mdurl~=0.1 in c:\\users\\hp\\appdata\\local\\programs\\python\\python310\\lib\\site-packages (from markdown-it-py>=2.2.0->rich>=10.11.0->typer<1.0,>=0.12->gradio) (0.1.2)\n",
      "Note: you may need to restart the kernel to use updated packages.\n",
      "Name: tensorflow\n",
      "Version: 2.19.0\n",
      "Summary: TensorFlow is an open source machine learning framework for everyone.\n",
      "Home-page: https://www.tensorflow.org/\n",
      "Author: Google Inc.\n",
      "Author-email: packages@tensorflow.org\n",
      "License: Apache 2.0\n",
      "Location: c:\\users\\hp\\appdata\\local\\programs\\python\\python310\\lib\\site-packages\n",
      "Requires: absl-py, astunparse, flatbuffers, gast, google-pasta, grpcio, h5py, keras, libclang, ml-dtypes, numpy, opt-einsum, packaging, protobuf, requests, setuptools, six, tensorboard, tensorflow-io-gcs-filesystem, termcolor, typing-extensions, wrapt\n",
      "Required-by: \n",
      "Note: you may need to restart the kernel to use updated packages.\n"
     ]
    }
   ],
   "source": [
    "%pip install tensorflow gradio pillow\n",
    "%pip show tensorflow\n",
    "\n"
   ]
  },
  {
   "cell_type": "code",
   "execution_count": 11,
   "id": "00515b9a",
   "metadata": {},
   "outputs": [
    {
     "name": "stderr",
     "output_type": "stream",
     "text": [
      "WARNING:absl:Compiled the loaded model, but the compiled metrics have yet to be built. `model.compile_metrics` will be empty until you train or evaluate the model.\n"
     ]
    },
    {
     "name": "stdout",
     "output_type": "stream",
     "text": [
      "\u001b[1m1/1\u001b[0m \u001b[32m━━━━━━━━━━━━━━━━━━━━\u001b[0m\u001b[37m\u001b[0m \u001b[1m2s\u001b[0m 2s/step\n",
      "[[4.7127217e-02 4.1234091e-02 7.6479542e-01 6.5727613e-04 3.8525797e-02\n",
      "  5.9633981e-02 7.7871731e-03 4.6894159e-03 3.3407278e-02 2.1423693e-03]]\n"
     ]
    }
   ],
   "source": [
    "from tensorflow.keras.models import load_model\n",
    "import numpy as np\n",
    "from PIL import Image\n",
    "\n",
    "# Load the model\n",
    "model = load_model(\"E:/Garbage Classification/notebooks/best_model.h5\")\n",
    "\n",
    "# Create a blank RGB image of size 160x160\n",
    "image = Image.new(\"RGB\", (160, 160))\n",
    "\n",
    "# Convert image to array and normalize\n",
    "img_array = np.array(image) / 255.0\n",
    "img_array = np.expand_dims(img_array, axis=0)  # shape becomes (1, 160, 160, 3)\n",
    "\n",
    "# Run prediction\n",
    "pred = model.predict(img_array)\n",
    "print(pred)\n"
   ]
  },
  {
   "cell_type": "code",
   "execution_count": 11,
   "id": "94317760",
   "metadata": {},
   "outputs": [
    {
     "name": "stdout",
     "output_type": "stream",
     "text": [
      "Collecting gradio\n",
      "  Downloading gradio-5.36.2-py3-none-any.whl.metadata (16 kB)\n",
      "Collecting aiofiles<25.0,>=22.0 (from gradio)\n",
      "  Downloading aiofiles-24.1.0-py3-none-any.whl.metadata (10 kB)\n",
      "Requirement already satisfied: anyio<5.0,>=3.0 in c:\\users\\hp\\appdata\\local\\programs\\python\\python310\\lib\\site-packages (from gradio) (4.9.0)\n",
      "Collecting brotli>=1.1.0 (from gradio)\n",
      "  Using cached Brotli-1.1.0-cp310-cp310-win_amd64.whl.metadata (5.6 kB)\n",
      "Requirement already satisfied: fastapi<1.0,>=0.115.2 in c:\\users\\hp\\appdata\\local\\programs\\python\\python310\\lib\\site-packages (from gradio) (0.115.9)\n",
      "Collecting ffmpy (from gradio)\n",
      "  Downloading ffmpy-0.6.0-py3-none-any.whl.metadata (2.9 kB)\n",
      "Collecting gradio-client==1.10.4 (from gradio)\n",
      "  Downloading gradio_client-1.10.4-py3-none-any.whl.metadata (7.1 kB)\n",
      "Collecting groovy~=0.1 (from gradio)\n",
      "  Downloading groovy-0.1.2-py3-none-any.whl.metadata (6.1 kB)\n",
      "Requirement already satisfied: httpx<1.0,>=0.24.1 in c:\\users\\hp\\appdata\\local\\programs\\python\\python310\\lib\\site-packages (from gradio) (0.28.1)\n",
      "Requirement already satisfied: huggingface-hub>=0.28.1 in c:\\users\\hp\\appdata\\local\\programs\\python\\python310\\lib\\site-packages (from gradio) (0.31.2)\n",
      "Requirement already satisfied: jinja2<4.0 in c:\\users\\hp\\appdata\\local\\programs\\python\\python310\\lib\\site-packages (from gradio) (3.1.6)\n",
      "Requirement already satisfied: markupsafe<4.0,>=2.0 in c:\\users\\hp\\appdata\\local\\programs\\python\\python310\\lib\\site-packages (from gradio) (3.0.2)\n",
      "Requirement already satisfied: numpy<3.0,>=1.0 in c:\\users\\hp\\appdata\\local\\programs\\python\\python310\\lib\\site-packages (from gradio) (2.1.3)\n",
      "Requirement already satisfied: orjson~=3.0 in c:\\users\\hp\\appdata\\local\\programs\\python\\python310\\lib\\site-packages (from gradio) (3.10.18)\n",
      "Requirement already satisfied: packaging in c:\\users\\hp\\appdata\\local\\programs\\python\\python310\\lib\\site-packages (from gradio) (24.2)\n",
      "Requirement already satisfied: pandas<3.0,>=1.0 in c:\\users\\hp\\appdata\\local\\programs\\python\\python310\\lib\\site-packages (from gradio) (2.2.3)\n",
      "Requirement already satisfied: pillow<12.0,>=8.0 in c:\\users\\hp\\appdata\\local\\programs\\python\\python310\\lib\\site-packages (from gradio) (11.2.1)\n",
      "Requirement already satisfied: pydantic<2.12,>=2.0 in c:\\users\\hp\\appdata\\local\\programs\\python\\python310\\lib\\site-packages (from gradio) (2.11.5)\n",
      "Collecting pydub (from gradio)\n",
      "  Downloading pydub-0.25.1-py2.py3-none-any.whl.metadata (1.4 kB)\n",
      "Collecting python-multipart>=0.0.18 (from gradio)\n",
      "  Downloading python_multipart-0.0.20-py3-none-any.whl.metadata (1.8 kB)\n",
      "Requirement already satisfied: pyyaml<7.0,>=5.0 in c:\\users\\hp\\appdata\\local\\programs\\python\\python310\\lib\\site-packages (from gradio) (6.0.2)\n",
      "Collecting ruff>=0.9.3 (from gradio)\n",
      "  Downloading ruff-0.12.3-py3-none-win_amd64.whl.metadata (26 kB)\n",
      "Collecting safehttpx<0.2.0,>=0.1.6 (from gradio)\n",
      "  Downloading safehttpx-0.1.6-py3-none-any.whl.metadata (4.2 kB)\n",
      "Collecting semantic-version~=2.0 (from gradio)\n",
      "  Downloading semantic_version-2.10.0-py2.py3-none-any.whl.metadata (9.7 kB)\n",
      "Requirement already satisfied: starlette<1.0,>=0.40.0 in c:\\users\\hp\\appdata\\local\\programs\\python\\python310\\lib\\site-packages (from gradio) (0.45.3)\n",
      "Collecting tomlkit<0.14.0,>=0.12.0 (from gradio)\n",
      "  Downloading tomlkit-0.13.3-py3-none-any.whl.metadata (2.8 kB)\n",
      "Requirement already satisfied: typer<1.0,>=0.12 in c:\\users\\hp\\appdata\\local\\programs\\python\\python310\\lib\\site-packages (from gradio) (0.15.4)\n",
      "Requirement already satisfied: typing-extensions~=4.0 in c:\\users\\hp\\appdata\\roaming\\python\\python310\\site-packages (from gradio) (4.13.2)\n",
      "Requirement already satisfied: uvicorn>=0.14.0 in c:\\users\\hp\\appdata\\local\\programs\\python\\python310\\lib\\site-packages (from gradio) (0.34.2)\n",
      "Requirement already satisfied: fsspec in c:\\users\\hp\\appdata\\local\\programs\\python\\python310\\lib\\site-packages (from gradio-client==1.10.4->gradio) (2025.3.2)\n",
      "Requirement already satisfied: websockets<16.0,>=10.0 in c:\\users\\hp\\appdata\\local\\programs\\python\\python310\\lib\\site-packages (from gradio-client==1.10.4->gradio) (15.0.1)\n",
      "Requirement already satisfied: exceptiongroup>=1.0.2 in c:\\users\\hp\\appdata\\roaming\\python\\python310\\site-packages (from anyio<5.0,>=3.0->gradio) (1.2.2)\n",
      "Requirement already satisfied: idna>=2.8 in c:\\users\\hp\\appdata\\local\\programs\\python\\python310\\lib\\site-packages (from anyio<5.0,>=3.0->gradio) (3.10)\n",
      "Requirement already satisfied: sniffio>=1.1 in c:\\users\\hp\\appdata\\local\\programs\\python\\python310\\lib\\site-packages (from anyio<5.0,>=3.0->gradio) (1.3.1)\n",
      "Requirement already satisfied: certifi in c:\\users\\hp\\appdata\\local\\programs\\python\\python310\\lib\\site-packages (from httpx<1.0,>=0.24.1->gradio) (2025.4.26)\n",
      "Requirement already satisfied: httpcore==1.* in c:\\users\\hp\\appdata\\local\\programs\\python\\python310\\lib\\site-packages (from httpx<1.0,>=0.24.1->gradio) (1.0.9)\n",
      "Requirement already satisfied: h11>=0.16 in c:\\users\\hp\\appdata\\local\\programs\\python\\python310\\lib\\site-packages (from httpcore==1.*->httpx<1.0,>=0.24.1->gradio) (0.16.0)\n",
      "Requirement already satisfied: python-dateutil>=2.8.2 in c:\\users\\hp\\appdata\\roaming\\python\\python310\\site-packages (from pandas<3.0,>=1.0->gradio) (2.9.0.post0)\n",
      "Requirement already satisfied: pytz>=2020.1 in c:\\users\\hp\\appdata\\local\\programs\\python\\python310\\lib\\site-packages (from pandas<3.0,>=1.0->gradio) (2025.2)\n",
      "Requirement already satisfied: tzdata>=2022.7 in c:\\users\\hp\\appdata\\local\\programs\\python\\python310\\lib\\site-packages (from pandas<3.0,>=1.0->gradio) (2025.2)\n",
      "Requirement already satisfied: annotated-types>=0.6.0 in c:\\users\\hp\\appdata\\local\\programs\\python\\python310\\lib\\site-packages (from pydantic<2.12,>=2.0->gradio) (0.7.0)\n",
      "Requirement already satisfied: pydantic-core==2.33.2 in c:\\users\\hp\\appdata\\local\\programs\\python\\python310\\lib\\site-packages (from pydantic<2.12,>=2.0->gradio) (2.33.2)\n",
      "Requirement already satisfied: typing-inspection>=0.4.0 in c:\\users\\hp\\appdata\\local\\programs\\python\\python310\\lib\\site-packages (from pydantic<2.12,>=2.0->gradio) (0.4.1)\n",
      "Requirement already satisfied: click<8.2,>=8.0.0 in c:\\users\\hp\\appdata\\local\\programs\\python\\python310\\lib\\site-packages (from typer<1.0,>=0.12->gradio) (8.1.8)\n",
      "Requirement already satisfied: shellingham>=1.3.0 in c:\\users\\hp\\appdata\\local\\programs\\python\\python310\\lib\\site-packages (from typer<1.0,>=0.12->gradio) (1.5.4)\n",
      "Requirement already satisfied: rich>=10.11.0 in c:\\users\\hp\\appdata\\local\\programs\\python\\python310\\lib\\site-packages (from typer<1.0,>=0.12->gradio) (13.9.4)\n",
      "Requirement already satisfied: colorama in c:\\users\\hp\\appdata\\roaming\\python\\python310\\site-packages (from click<8.2,>=8.0.0->typer<1.0,>=0.12->gradio) (0.4.6)\n",
      "Requirement already satisfied: filelock in c:\\users\\hp\\appdata\\local\\programs\\python\\python310\\lib\\site-packages (from huggingface-hub>=0.28.1->gradio) (3.18.0)\n",
      "Requirement already satisfied: requests in c:\\users\\hp\\appdata\\local\\programs\\python\\python310\\lib\\site-packages (from huggingface-hub>=0.28.1->gradio) (2.32.3)\n",
      "Requirement already satisfied: tqdm>=4.42.1 in c:\\users\\hp\\appdata\\local\\programs\\python\\python310\\lib\\site-packages (from huggingface-hub>=0.28.1->gradio) (4.67.1)\n",
      "Requirement already satisfied: six>=1.5 in c:\\users\\hp\\appdata\\roaming\\python\\python310\\site-packages (from python-dateutil>=2.8.2->pandas<3.0,>=1.0->gradio) (1.17.0)\n",
      "Requirement already satisfied: markdown-it-py>=2.2.0 in c:\\users\\hp\\appdata\\local\\programs\\python\\python310\\lib\\site-packages (from rich>=10.11.0->typer<1.0,>=0.12->gradio) (3.0.0)\n",
      "Requirement already satisfied: pygments<3.0.0,>=2.13.0 in c:\\users\\hp\\appdata\\roaming\\python\\python310\\site-packages (from rich>=10.11.0->typer<1.0,>=0.12->gradio) (2.19.1)\n",
      "Requirement already satisfied: mdurl~=0.1 in c:\\users\\hp\\appdata\\local\\programs\\python\\python310\\lib\\site-packages (from markdown-it-py>=2.2.0->rich>=10.11.0->typer<1.0,>=0.12->gradio) (0.1.2)\n",
      "Requirement already satisfied: charset-normalizer<4,>=2 in c:\\users\\hp\\appdata\\local\\programs\\python\\python310\\lib\\site-packages (from requests->huggingface-hub>=0.28.1->gradio) (3.4.2)\n",
      "Requirement already satisfied: urllib3<3,>=1.21.1 in c:\\users\\hp\\appdata\\local\\programs\\python\\python310\\lib\\site-packages (from requests->huggingface-hub>=0.28.1->gradio) (2.4.0)\n",
      "Downloading gradio-5.36.2-py3-none-any.whl (59.6 MB)\n",
      "   ---------------------------------------- 0.0/59.6 MB ? eta -:--:--\n",
      "   ---------------------------------------- 0.5/59.6 MB 2.8 MB/s eta 0:00:22\n",
      "    --------------------------------------- 1.3/59.6 MB 3.7 MB/s eta 0:00:16\n",
      "   - -------------------------------------- 2.1/59.6 MB 3.9 MB/s eta 0:00:15\n",
      "   - -------------------------------------- 2.9/59.6 MB 3.9 MB/s eta 0:00:15\n",
      "   -- ------------------------------------- 3.9/59.6 MB 3.9 MB/s eta 0:00:15\n",
      "   -- ------------------------------------- 4.5/59.6 MB 3.9 MB/s eta 0:00:15\n",
      "   -- ------------------------------------- 4.5/59.6 MB 3.9 MB/s eta 0:00:15\n",
      "   ---- ----------------------------------- 6.0/59.6 MB 3.6 MB/s eta 0:00:15\n",
      "   ---- ----------------------------------- 6.8/59.6 MB 3.6 MB/s eta 0:00:15\n",
      "   ----- ---------------------------------- 8.1/59.6 MB 3.9 MB/s eta 0:00:14\n",
      "   ----- ---------------------------------- 8.9/59.6 MB 3.8 MB/s eta 0:00:14\n",
      "   ------ --------------------------------- 9.7/59.6 MB 3.8 MB/s eta 0:00:14\n",
      "   ------- -------------------------------- 10.5/59.6 MB 3.8 MB/s eta 0:00:13\n",
      "   ------- -------------------------------- 11.3/59.6 MB 3.8 MB/s eta 0:00:13\n",
      "   ------- -------------------------------- 11.8/59.6 MB 3.8 MB/s eta 0:00:13\n",
      "   -------- ------------------------------- 12.8/59.6 MB 3.8 MB/s eta 0:00:13\n",
      "   --------- ------------------------------ 13.6/59.6 MB 3.8 MB/s eta 0:00:13\n",
      "   --------- ------------------------------ 14.4/59.6 MB 3.8 MB/s eta 0:00:13\n",
      "   ---------- ----------------------------- 15.2/59.6 MB 3.8 MB/s eta 0:00:12\n",
      "   ---------- ----------------------------- 16.0/59.6 MB 3.8 MB/s eta 0:00:12\n",
      "   ----------- ---------------------------- 16.8/59.6 MB 3.7 MB/s eta 0:00:12\n",
      "   ----------- ---------------------------- 17.6/59.6 MB 3.7 MB/s eta 0:00:12\n",
      "   ------------ --------------------------- 18.4/59.6 MB 3.7 MB/s eta 0:00:12\n",
      "   ------------ --------------------------- 19.1/59.6 MB 3.7 MB/s eta 0:00:11\n",
      "   ------------- -------------------------- 19.9/59.6 MB 3.7 MB/s eta 0:00:11\n",
      "   ------------- -------------------------- 20.7/59.6 MB 3.7 MB/s eta 0:00:11\n",
      "   -------------- ------------------------- 21.5/59.6 MB 3.7 MB/s eta 0:00:11\n",
      "   -------------- ------------------------- 22.3/59.6 MB 3.7 MB/s eta 0:00:11\n",
      "   --------------- ------------------------ 23.1/59.6 MB 3.7 MB/s eta 0:00:10\n",
      "   ---------------- ----------------------- 23.9/59.6 MB 3.7 MB/s eta 0:00:10\n",
      "   ---------------- ----------------------- 24.9/59.6 MB 3.7 MB/s eta 0:00:10\n",
      "   ----------------- ---------------------- 25.7/59.6 MB 3.7 MB/s eta 0:00:10\n",
      "   ----------------- ---------------------- 26.5/59.6 MB 3.7 MB/s eta 0:00:09\n",
      "   ------------------ --------------------- 27.3/59.6 MB 3.7 MB/s eta 0:00:09\n",
      "   ------------------ --------------------- 28.0/59.6 MB 3.7 MB/s eta 0:00:09\n",
      "   ------------------- -------------------- 28.8/59.6 MB 3.7 MB/s eta 0:00:09\n",
      "   ------------------- -------------------- 29.6/59.6 MB 3.7 MB/s eta 0:00:09\n",
      "   -------------------- ------------------- 30.4/59.6 MB 3.7 MB/s eta 0:00:08\n",
      "   -------------------- ------------------- 31.2/59.6 MB 3.7 MB/s eta 0:00:08\n",
      "   --------------------- ------------------ 32.0/59.6 MB 3.7 MB/s eta 0:00:08\n",
      "   --------------------- ------------------ 32.8/59.6 MB 3.7 MB/s eta 0:00:08\n",
      "   ---------------------- ----------------- 33.6/59.6 MB 3.7 MB/s eta 0:00:08\n",
      "   ----------------------- ---------------- 34.3/59.6 MB 3.7 MB/s eta 0:00:07\n",
      "   ----------------------- ---------------- 35.1/59.6 MB 3.7 MB/s eta 0:00:07\n",
      "   ------------------------ --------------- 35.9/59.6 MB 3.7 MB/s eta 0:00:07\n",
      "   ------------------------ --------------- 36.7/59.6 MB 3.7 MB/s eta 0:00:07\n",
      "   ------------------------- -------------- 37.5/59.6 MB 3.7 MB/s eta 0:00:06\n",
      "   ------------------------- -------------- 38.3/59.6 MB 3.7 MB/s eta 0:00:06\n",
      "   -------------------------- ------------- 39.1/59.6 MB 3.7 MB/s eta 0:00:06\n",
      "   -------------------------- ------------- 39.6/59.6 MB 3.7 MB/s eta 0:00:06\n",
      "   --------------------------- ------------ 40.6/59.6 MB 3.7 MB/s eta 0:00:06\n",
      "   --------------------------- ------------ 41.4/59.6 MB 3.7 MB/s eta 0:00:05\n",
      "   ---------------------------- ----------- 42.2/59.6 MB 3.7 MB/s eta 0:00:05\n",
      "   ---------------------------- ----------- 43.0/59.6 MB 3.7 MB/s eta 0:00:05\n",
      "   ----------------------------- ---------- 43.8/59.6 MB 3.7 MB/s eta 0:00:05\n",
      "   ----------------------------- ---------- 44.6/59.6 MB 3.7 MB/s eta 0:00:05\n",
      "   ------------------------------ --------- 45.4/59.6 MB 3.7 MB/s eta 0:00:04\n",
      "   ------------------------------ --------- 46.1/59.6 MB 3.7 MB/s eta 0:00:04\n",
      "   ------------------------------- -------- 47.2/59.6 MB 3.7 MB/s eta 0:00:04\n",
      "   -------------------------------- ------- 48.0/59.6 MB 3.7 MB/s eta 0:00:04\n",
      "   -------------------------------- ------- 48.8/59.6 MB 3.7 MB/s eta 0:00:03\n",
      "   --------------------------------- ------ 49.3/59.6 MB 3.7 MB/s eta 0:00:03\n",
      "   --------------------------------- ------ 50.1/59.6 MB 3.7 MB/s eta 0:00:03\n",
      "   ---------------------------------- ----- 50.9/59.6 MB 3.7 MB/s eta 0:00:03\n",
      "   ---------------------------------- ----- 51.6/59.6 MB 3.7 MB/s eta 0:00:03\n",
      "   ----------------------------------- ---- 52.4/59.6 MB 3.7 MB/s eta 0:00:02\n",
      "   ----------------------------------- ---- 53.2/59.6 MB 3.7 MB/s eta 0:00:02\n",
      "   ------------------------------------ --- 54.0/59.6 MB 3.7 MB/s eta 0:00:02\n",
      "   ------------------------------------ --- 54.8/59.6 MB 3.7 MB/s eta 0:00:02\n",
      "   ------------------------------------- -- 55.6/59.6 MB 3.7 MB/s eta 0:00:02\n",
      "   ------------------------------------- -- 56.4/59.6 MB 3.7 MB/s eta 0:00:01\n",
      "   -------------------------------------- - 57.1/59.6 MB 3.7 MB/s eta 0:00:01\n",
      "   -------------------------------------- - 57.9/59.6 MB 3.7 MB/s eta 0:00:01\n",
      "   ---------------------------------------  58.7/59.6 MB 3.7 MB/s eta 0:00:01\n",
      "   ---------------------------------------  59.5/59.6 MB 3.7 MB/s eta 0:00:01\n",
      "   ---------------------------------------  59.5/59.6 MB 3.7 MB/s eta 0:00:01\n",
      "   ---------------------------------------- 59.6/59.6 MB 3.6 MB/s eta 0:00:00\n",
      "Downloading gradio_client-1.10.4-py3-none-any.whl (323 kB)\n",
      "Downloading aiofiles-24.1.0-py3-none-any.whl (15 kB)\n",
      "Downloading groovy-0.1.2-py3-none-any.whl (14 kB)\n",
      "Downloading safehttpx-0.1.6-py3-none-any.whl (8.7 kB)\n",
      "Downloading semantic_version-2.10.0-py2.py3-none-any.whl (15 kB)\n",
      "Downloading tomlkit-0.13.3-py3-none-any.whl (38 kB)\n",
      "Using cached Brotli-1.1.0-cp310-cp310-win_amd64.whl (357 kB)\n",
      "Downloading python_multipart-0.0.20-py3-none-any.whl (24 kB)\n",
      "Downloading ruff-0.12.3-py3-none-win_amd64.whl (11.7 MB)\n",
      "   ---------------------------------------- 0.0/11.7 MB ? eta -:--:--\n",
      "   -- ------------------------------------- 0.8/11.7 MB 4.2 MB/s eta 0:00:03\n",
      "   ---- ----------------------------------- 1.3/11.7 MB 3.5 MB/s eta 0:00:03\n",
      "   -------- ------------------------------- 2.4/11.7 MB 3.7 MB/s eta 0:00:03\n",
      "   ---------- ----------------------------- 3.1/11.7 MB 3.7 MB/s eta 0:00:03\n",
      "   ------------- -------------------------- 3.9/11.7 MB 3.7 MB/s eta 0:00:03\n",
      "   ---------------- ----------------------- 4.7/11.7 MB 3.7 MB/s eta 0:00:02\n",
      "   ----------------- ---------------------- 5.2/11.7 MB 3.7 MB/s eta 0:00:02\n",
      "   -------------------- ------------------- 6.0/11.7 MB 3.7 MB/s eta 0:00:02\n",
      "   ------------------------ --------------- 7.1/11.7 MB 3.7 MB/s eta 0:00:02\n",
      "   -------------------------- ------------- 7.6/11.7 MB 3.6 MB/s eta 0:00:02\n",
      "   --------------------------- ------------ 8.1/11.7 MB 3.6 MB/s eta 0:00:01\n",
      "   ----------------------------- ---------- 8.7/11.7 MB 3.3 MB/s eta 0:00:01\n",
      "   ------------------------------ --------- 8.9/11.7 MB 3.3 MB/s eta 0:00:01\n",
      "   -------------------------------- ------- 9.4/11.7 MB 3.1 MB/s eta 0:00:01\n",
      "   --------------------------------- ------ 9.7/11.7 MB 3.1 MB/s eta 0:00:01\n",
      "   ---------------------------------- ----- 10.0/11.7 MB 3.0 MB/s eta 0:00:01\n",
      "   ----------------------------------- ---- 10.5/11.7 MB 2.9 MB/s eta 0:00:01\n",
      "   ------------------------------------ --- 10.7/11.7 MB 2.8 MB/s eta 0:00:01\n",
      "   -------------------------------------- - 11.3/11.7 MB 2.8 MB/s eta 0:00:01\n",
      "   ---------------------------------------  11.5/11.7 MB 2.7 MB/s eta 0:00:01\n",
      "   ---------------------------------------- 11.7/11.7 MB 2.7 MB/s eta 0:00:00\n",
      "Downloading ffmpy-0.6.0-py3-none-any.whl (5.5 kB)\n",
      "Downloading pydub-0.25.1-py2.py3-none-any.whl (32 kB)\n",
      "Installing collected packages: pydub, brotli, tomlkit, semantic-version, ruff, python-multipart, groovy, ffmpy, aiofiles, safehttpx, gradio-client, gradio\n",
      "\n",
      "   ----------------------------------------  0/12 [pydub]\n",
      "   ----------------------------------------  0/12 [pydub]\n",
      "   ----------------------------------------  0/12 [pydub]\n",
      "   ------ ---------------------------------  2/12 [tomlkit]\n",
      "   ------ ---------------------------------  2/12 [tomlkit]\n",
      "   ---------- -----------------------------  3/12 [semantic-version]\n",
      "   ------------- --------------------------  4/12 [ruff]\n",
      "   ------------- --------------------------  4/12 [ruff]\n",
      "   ------------- --------------------------  4/12 [ruff]\n",
      "   ------------- --------------------------  4/12 [ruff]\n",
      "   ------------- --------------------------  4/12 [ruff]\n",
      "   ------------- --------------------------  4/12 [ruff]\n",
      "   ------------- --------------------------  4/12 [ruff]\n",
      "   ---------------- -----------------------  5/12 [python-multipart]\n",
      "   ---------------- -----------------------  5/12 [python-multipart]\n",
      "   ----------------------- ----------------  7/12 [ffmpy]\n",
      "   -------------------------- -------------  8/12 [aiofiles]\n",
      "   -------------------------- -------------  8/12 [aiofiles]\n",
      "   --------------------------------- ------ 10/12 [gradio-client]\n",
      "   --------------------------------- ------ 10/12 [gradio-client]\n",
      "   ------------------------------------ --- 11/12 [gradio]\n",
      "   ------------------------------------ --- 11/12 [gradio]\n",
      "   ------------------------------------ --- 11/12 [gradio]\n",
      "   ------------------------------------ --- 11/12 [gradio]\n",
      "   ------------------------------------ --- 11/12 [gradio]\n",
      "   ------------------------------------ --- 11/12 [gradio]\n",
      "   ------------------------------------ --- 11/12 [gradio]\n",
      "   ------------------------------------ --- 11/12 [gradio]\n",
      "   ------------------------------------ --- 11/12 [gradio]\n",
      "   ------------------------------------ --- 11/12 [gradio]\n",
      "   ------------------------------------ --- 11/12 [gradio]\n",
      "   ------------------------------------ --- 11/12 [gradio]\n",
      "   ------------------------------------ --- 11/12 [gradio]\n",
      "   ------------------------------------ --- 11/12 [gradio]\n",
      "   ------------------------------------ --- 11/12 [gradio]\n",
      "   ------------------------------------ --- 11/12 [gradio]\n",
      "   ------------------------------------ --- 11/12 [gradio]\n",
      "   ------------------------------------ --- 11/12 [gradio]\n",
      "   ------------------------------------ --- 11/12 [gradio]\n",
      "   ------------------------------------ --- 11/12 [gradio]\n",
      "   ------------------------------------ --- 11/12 [gradio]\n",
      "   ------------------------------------ --- 11/12 [gradio]\n",
      "   ------------------------------------ --- 11/12 [gradio]\n",
      "   ------------------------------------ --- 11/12 [gradio]\n",
      "   ------------------------------------ --- 11/12 [gradio]\n",
      "   ------------------------------------ --- 11/12 [gradio]\n",
      "   ------------------------------------ --- 11/12 [gradio]\n",
      "   ------------------------------------ --- 11/12 [gradio]\n",
      "   ------------------------------------ --- 11/12 [gradio]\n",
      "   ------------------------------------ --- 11/12 [gradio]\n",
      "   ------------------------------------ --- 11/12 [gradio]\n",
      "   ------------------------------------ --- 11/12 [gradio]\n",
      "   ------------------------------------ --- 11/12 [gradio]\n",
      "   ------------------------------------ --- 11/12 [gradio]\n",
      "   ------------------------------------ --- 11/12 [gradio]\n",
      "   ------------------------------------ --- 11/12 [gradio]\n",
      "   ------------------------------------ --- 11/12 [gradio]\n",
      "   ------------------------------------ --- 11/12 [gradio]\n",
      "   ------------------------------------ --- 11/12 [gradio]\n",
      "   ------------------------------------ --- 11/12 [gradio]\n",
      "   ------------------------------------ --- 11/12 [gradio]\n",
      "   ------------------------------------ --- 11/12 [gradio]\n",
      "   ------------------------------------ --- 11/12 [gradio]\n",
      "   ------------------------------------ --- 11/12 [gradio]\n",
      "   ------------------------------------ --- 11/12 [gradio]\n",
      "   ------------------------------------ --- 11/12 [gradio]\n",
      "   ------------------------------------ --- 11/12 [gradio]\n",
      "   ------------------------------------ --- 11/12 [gradio]\n",
      "   ------------------------------------ --- 11/12 [gradio]\n",
      "   ------------------------------------ --- 11/12 [gradio]\n",
      "   ------------------------------------ --- 11/12 [gradio]\n",
      "   ------------------------------------ --- 11/12 [gradio]\n",
      "   ------------------------------------ --- 11/12 [gradio]\n",
      "   ------------------------------------ --- 11/12 [gradio]\n",
      "   ------------------------------------ --- 11/12 [gradio]\n",
      "   ------------------------------------ --- 11/12 [gradio]\n",
      "   ------------------------------------ --- 11/12 [gradio]\n",
      "   ------------------------------------ --- 11/12 [gradio]\n",
      "   ------------------------------------ --- 11/12 [gradio]\n",
      "   ------------------------------------ --- 11/12 [gradio]\n",
      "   ------------------------------------ --- 11/12 [gradio]\n",
      "   ------------------------------------ --- 11/12 [gradio]\n",
      "   ------------------------------------ --- 11/12 [gradio]\n",
      "   ------------------------------------ --- 11/12 [gradio]\n",
      "   ------------------------------------ --- 11/12 [gradio]\n",
      "   ------------------------------------ --- 11/12 [gradio]\n",
      "   ------------------------------------ --- 11/12 [gradio]\n",
      "   ------------------------------------ --- 11/12 [gradio]\n",
      "   ------------------------------------ --- 11/12 [gradio]\n",
      "   ------------------------------------ --- 11/12 [gradio]\n",
      "   ------------------------------------ --- 11/12 [gradio]\n",
      "   ------------------------------------ --- 11/12 [gradio]\n",
      "   ------------------------------------ --- 11/12 [gradio]\n",
      "   ------------------------------------ --- 11/12 [gradio]\n",
      "   ------------------------------------ --- 11/12 [gradio]\n",
      "   ------------------------------------ --- 11/12 [gradio]\n",
      "   ------------------------------------ --- 11/12 [gradio]\n",
      "   ------------------------------------ --- 11/12 [gradio]\n",
      "   ------------------------------------ --- 11/12 [gradio]\n",
      "   ------------------------------------ --- 11/12 [gradio]\n",
      "   ------------------------------------ --- 11/12 [gradio]\n",
      "   ------------------------------------ --- 11/12 [gradio]\n",
      "   ------------------------------------ --- 11/12 [gradio]\n",
      "   ------------------------------------ --- 11/12 [gradio]\n",
      "   ------------------------------------ --- 11/12 [gradio]\n",
      "   ------------------------------------ --- 11/12 [gradio]\n",
      "   ------------------------------------ --- 11/12 [gradio]\n",
      "   ------------------------------------ --- 11/12 [gradio]\n",
      "   ------------------------------------ --- 11/12 [gradio]\n",
      "   ------------------------------------ --- 11/12 [gradio]\n",
      "   ------------------------------------ --- 11/12 [gradio]\n",
      "   ------------------------------------ --- 11/12 [gradio]\n",
      "   ------------------------------------ --- 11/12 [gradio]\n",
      "   ------------------------------------ --- 11/12 [gradio]\n",
      "   ------------------------------------ --- 11/12 [gradio]\n",
      "   ------------------------------------ --- 11/12 [gradio]\n",
      "   ------------------------------------ --- 11/12 [gradio]\n",
      "   ------------------------------------ --- 11/12 [gradio]\n",
      "   ------------------------------------ --- 11/12 [gradio]\n",
      "   ------------------------------------ --- 11/12 [gradio]\n",
      "   ------------------------------------ --- 11/12 [gradio]\n",
      "   ------------------------------------ --- 11/12 [gradio]\n",
      "   ------------------------------------ --- 11/12 [gradio]\n",
      "   ------------------------------------ --- 11/12 [gradio]\n",
      "   ------------------------------------ --- 11/12 [gradio]\n",
      "   ------------------------------------ --- 11/12 [gradio]\n",
      "   ------------------------------------ --- 11/12 [gradio]\n",
      "   ------------------------------------ --- 11/12 [gradio]\n",
      "   ------------------------------------ --- 11/12 [gradio]\n",
      "   ------------------------------------ --- 11/12 [gradio]\n",
      "   ------------------------------------ --- 11/12 [gradio]\n",
      "   ------------------------------------ --- 11/12 [gradio]\n",
      "   ------------------------------------ --- 11/12 [gradio]\n",
      "   ------------------------------------ --- 11/12 [gradio]\n",
      "   ------------------------------------ --- 11/12 [gradio]\n",
      "   ------------------------------------ --- 11/12 [gradio]\n",
      "   ------------------------------------ --- 11/12 [gradio]\n",
      "   ------------------------------------ --- 11/12 [gradio]\n",
      "   ------------------------------------ --- 11/12 [gradio]\n",
      "   ------------------------------------ --- 11/12 [gradio]\n",
      "   ------------------------------------ --- 11/12 [gradio]\n",
      "   ------------------------------------ --- 11/12 [gradio]\n",
      "   ------------------------------------ --- 11/12 [gradio]\n",
      "   ------------------------------------ --- 11/12 [gradio]\n",
      "   ------------------------------------ --- 11/12 [gradio]\n",
      "   ------------------------------------ --- 11/12 [gradio]\n",
      "   ------------------------------------ --- 11/12 [gradio]\n",
      "   ------------------------------------ --- 11/12 [gradio]\n",
      "   ------------------------------------ --- 11/12 [gradio]\n",
      "   ------------------------------------ --- 11/12 [gradio]\n",
      "   ------------------------------------ --- 11/12 [gradio]\n",
      "   ------------------------------------ --- 11/12 [gradio]\n",
      "   ------------------------------------ --- 11/12 [gradio]\n",
      "   ------------------------------------ --- 11/12 [gradio]\n",
      "   ------------------------------------ --- 11/12 [gradio]\n",
      "   ------------------------------------ --- 11/12 [gradio]\n",
      "   ------------------------------------ --- 11/12 [gradio]\n",
      "   ------------------------------------ --- 11/12 [gradio]\n",
      "   ------------------------------------ --- 11/12 [gradio]\n",
      "   ------------------------------------ --- 11/12 [gradio]\n",
      "   ---------------------------------------- 12/12 [gradio]\n",
      "\n",
      "Successfully installed aiofiles-24.1.0 brotli-1.1.0 ffmpy-0.6.0 gradio-5.36.2 gradio-client-1.10.4 groovy-0.1.2 pydub-0.25.1 python-multipart-0.0.20 ruff-0.12.3 safehttpx-0.1.6 semantic-version-2.10.0 tomlkit-0.13.3\n"
     ]
    }
   ],
   "source": [
    "!pip install gradio\n"
   ]
  }
 ],
 "metadata": {
  "kernelspec": {
   "display_name": "Python 3",
   "language": "python",
   "name": "python3"
  },
  "language_info": {
   "codemirror_mode": {
    "name": "ipython",
    "version": 3
   },
   "file_extension": ".py",
   "mimetype": "text/x-python",
   "name": "python",
   "nbconvert_exporter": "python",
   "pygments_lexer": "ipython3",
   "version": "3.10.11"
  }
 },
 "nbformat": 4,
 "nbformat_minor": 5
}
